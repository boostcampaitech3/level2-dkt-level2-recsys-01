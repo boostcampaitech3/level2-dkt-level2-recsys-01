{
 "cells": [
  {
   "cell_type": "code",
   "execution_count": 1,
   "id": "c6f5e1c4-a91e-4511-9fc7-128c809f88d9",
   "metadata": {},
   "outputs": [
    {
     "name": "stderr",
     "output_type": "stream",
     "text": [
      "<frozen importlib._bootstrap>:219: RuntimeWarning: scipy._lib.messagestream.MessageStream size changed, may indicate binary incompatibility. Expected 56 from C header, got 64 from PyObject\n"
     ]
    }
   ],
   "source": [
    "import os\n",
    "\n",
    "import numpy as np\n",
    "import pandas as pd\n",
    "import matplotlib.pyplot as plt\n",
    "import seaborn as sns; sns.set_theme(color_codes=True)\n",
    "import missingno as msno\n",
    "\n",
    "import warnings\n",
    "warnings.filterwarnings(action='ignore')"
   ]
  },
  {
   "cell_type": "markdown",
   "id": "ca7e0b14-59e6-437f-a9be-51f9d17a02ca",
   "metadata": {
    "tags": []
   },
   "source": [
    "## Data Loading (pre-processed data)"
   ]
  },
  {
   "cell_type": "code",
   "execution_count": 2,
   "id": "00f08469-0435-4f68-8667-682d420d3179",
   "metadata": {},
   "outputs": [
    {
     "name": "stdout",
     "output_type": "stream",
     "text": [
      "<class 'pandas.core.frame.DataFrame'>\n",
      "Int64Index: 2525956 entries, 0 to 2526699\n",
      "Data columns (total 16 columns):\n",
      " #   Column            Dtype         \n",
      "---  ------            -----         \n",
      " 0   user              int64         \n",
      " 1   assessmentItemID  object        \n",
      " 2   testId            object        \n",
      " 3   answer            int64         \n",
      " 4   Timestamp         datetime64[ns]\n",
      " 5   tag               int64         \n",
      " 6   label             object        \n",
      " 7   category          int64         \n",
      " 8   test              int64         \n",
      " 9   item              int64         \n",
      " 10  month             int64         \n",
      " 11  day               int64         \n",
      " 12  weekday           int64         \n",
      " 13  hour              int64         \n",
      " 14  elapsed           float64       \n",
      " 15  test_elapsed      float64       \n",
      "dtypes: datetime64[ns](1), float64(2), int64(10), object(3)\n",
      "memory usage: 327.6+ MB\n"
     ]
    }
   ],
   "source": [
    "org_df = pd.read_csv(\"./preprocessed_data.csv\", parse_dates=[\"Timestamp\"])\n",
    "train_df = org_df[org_df.answer != -1]\n",
    "test_df = org_df[org_df.answer == -1]\n",
    "train_df.info()"
   ]
  },
  {
   "cell_type": "markdown",
   "id": "5e26c51e-95af-45ab-81d3-70ddf70735b4",
   "metadata": {
    "tags": []
   },
   "source": [
    "# 항목별 기본 통계"
   ]
  },
  {
   "cell_type": "code",
   "execution_count": 3,
   "id": "d40ea214-f41d-4ce1-9577-a01f15a2e55e",
   "metadata": {},
   "outputs": [
    {
     "name": "stdout",
     "output_type": "stream",
     "text": [
      "# of users: 7442\n",
      "# of probs: 9454\n",
      "# of categories: 9\n",
      "# of test: 1537\n",
      "# of tags: 912\n"
     ]
    }
   ],
   "source": [
    "num_users = train_df.user.nunique()\n",
    "num_probs = train_df.assessmentItemID.nunique()\n",
    "num_categories = train_df.category.nunique()\n",
    "num_tests = train_df.testId.nunique()\n",
    "num_tags = train_df.tag.nunique()\n",
    "\n",
    "print(f\"# of users: {num_users}\")\n",
    "print(f\"# of probs: {num_probs}\")\n",
    "print(f\"# of categories: {num_categories}\")\n",
    "print(f\"# of test: {num_tests}\")\n",
    "print(f\"# of tags: {num_tags}\")"
   ]
  },
  {
   "cell_type": "code",
   "execution_count": 4,
   "id": "290827fe-c23b-4f1f-83bf-6c29d1f14c66",
   "metadata": {},
   "outputs": [
    {
     "data": {
      "text/plain": [
       "7442"
      ]
     },
     "execution_count": 4,
     "metadata": {},
     "output_type": "execute_result"
    }
   ],
   "source": [
    "sum(train_df.user.unique() == np.arange(7442))"
   ]
  },
  {
   "cell_type": "code",
   "execution_count": 5,
   "id": "9cb5f459-caaa-41eb-b773-98d693b79aca",
   "metadata": {},
   "outputs": [
    {
     "data": {
      "text/plain": [
       "<matplotlib.axes._subplots.AxesSubplot at 0x7fd3a6a35370>"
      ]
     },
     "execution_count": 5,
     "metadata": {},
     "output_type": "execute_result"
    },
    {
     "data": {
      "image/png": "[encoded data removed]",
      "text/plain": [
       "<Figure size 432x288 with 1 Axes>"
      ]
     },
     "metadata": {},
     "output_type": "display_data"
    },
    {
     "data": {
      "image/png": "[encoded data removed]",
      "text/plain": [
       "<Figure size 432x288 with 1 Axes>"
      ]
     },
     "metadata": {},
     "output_type": "display_data"
    }
   ],
   "source": [
    "prob_acc = train_df.groupby(\"assessmentItemID\").agg({\"answer\": \"mean\"})\n",
    "prob_acc.plot.hist()\n",
    "\n",
    "user_acc = train_df.groupby(\"user\").agg({\"answer\": \"mean\"})\n",
    "user_acc.plot.hist()"
   ]
  },
  {
   "cell_type": "code",
   "execution_count": 6,
   "id": "4207df03-bf66-4411-aa08-ecea92b96536",
   "metadata": {},
   "outputs": [
    {
     "data": {
      "text/html": [
       "<div>\n",
       "<style scoped>\n",
       "    .dataframe tbody tr th:only-of-type {\n",
       "        vertical-align: middle;\n",
       "    }\n",
       "\n",
       "    .dataframe tbody tr th {\n",
       "        vertical-align: top;\n",
       "    }\n",
       "\n",
       "    .dataframe thead th {\n",
       "        text-align: right;\n",
       "    }\n",
       "</style>\n",
       "<table border=\"1\" class=\"dataframe\">\n",
       "  <thead>\n",
       "    <tr style=\"text-align: right;\">\n",
       "      <th></th>\n",
       "      <th>tag</th>\n",
       "    </tr>\n",
       "  </thead>\n",
       "  <tbody>\n",
       "    <tr>\n",
       "      <th>count</th>\n",
       "      <td>1537.000000</td>\n",
       "    </tr>\n",
       "    <tr>\n",
       "      <th>mean</th>\n",
       "      <td>1.741705</td>\n",
       "    </tr>\n",
       "    <tr>\n",
       "      <th>std</th>\n",
       "      <td>1.181580</td>\n",
       "    </tr>\n",
       "    <tr>\n",
       "      <th>min</th>\n",
       "      <td>1.000000</td>\n",
       "    </tr>\n",
       "    <tr>\n",
       "      <th>25%</th>\n",
       "      <td>1.000000</td>\n",
       "    </tr>\n",
       "    <tr>\n",
       "      <th>50%</th>\n",
       "      <td>1.000000</td>\n",
       "    </tr>\n",
       "    <tr>\n",
       "      <th>75%</th>\n",
       "      <td>2.000000</td>\n",
       "    </tr>\n",
       "    <tr>\n",
       "      <th>max</th>\n",
       "      <td>8.000000</td>\n",
       "    </tr>\n",
       "  </tbody>\n",
       "</table>\n",
       "</div>"
      ],
      "text/plain": [
       "               tag\n",
       "count  1537.000000\n",
       "mean      1.741705\n",
       "std       1.181580\n",
       "min       1.000000\n",
       "25%       1.000000\n",
       "50%       1.000000\n",
       "75%       2.000000\n",
       "max       8.000000"
      ]
     },
     "execution_count": 6,
     "metadata": {},
     "output_type": "execute_result"
    }
   ],
   "source": [
    "train_df.groupby(\"testId\").agg({\"tag\": \"nunique\"}).describe()"
   ]
  },
  {
   "cell_type": "markdown",
   "id": "dbe7d575-9e10-4474-8801-2e1629f6ba25",
   "metadata": {
    "jp-MarkdownHeadingCollapsed": true,
    "tags": []
   },
   "source": [
    "## user에 대한 feature engineering"
   ]
  },
  {
   "cell_type": "code",
   "execution_count": 7,
   "id": "5a7e35a5-837f-4804-a5dc-cc9a9504cbff",
   "metadata": {},
   "outputs": [],
   "source": [
    "user_group = train_df.groupby(\"user\")\n",
    "agg_on_user = user_group.agg({\"category\": \"nunique\",\n",
    "                              \"tag\": \"nunique\",\n",
    "                              \"testId\": \"nunique\",\n",
    "                              \"assessmentItemID\": \"nunique\",\n",
    "                              \"answer\": \"mean\",\n",
    "                              \n",
    "                              \"Timestamp\": \"count\"\n",
    "                             })\n",
    "\n",
    "agg_on_user.rename(columns={\"Timestamp\": \"trials\"}, inplace=True)\n",
    "# user_group[\"mean_trails\"] = agg_on_user.trials / agg_o"
   ]
  },
  {
   "cell_type": "code",
   "execution_count": 8,
   "id": "0494b357-14e9-47ae-8058-76436e2a2ff7",
   "metadata": {},
   "outputs": [
    {
     "data": {
      "text/html": [
       "<div>\n",
       "<style scoped>\n",
       "    .dataframe tbody tr th:only-of-type {\n",
       "        vertical-align: middle;\n",
       "    }\n",
       "\n",
       "    .dataframe tbody tr th {\n",
       "        vertical-align: top;\n",
       "    }\n",
       "\n",
       "    .dataframe thead th {\n",
       "        text-align: right;\n",
       "    }\n",
       "</style>\n",
       "<table border=\"1\" class=\"dataframe\">\n",
       "  <thead>\n",
       "    <tr style=\"text-align: right;\">\n",
       "      <th></th>\n",
       "      <th>category</th>\n",
       "      <th>tag</th>\n",
       "      <th>testId</th>\n",
       "      <th>assessmentItemID</th>\n",
       "      <th>answer</th>\n",
       "      <th>trials</th>\n",
       "      <th>mean_trials</th>\n",
       "    </tr>\n",
       "    <tr>\n",
       "      <th>user</th>\n",
       "      <th></th>\n",
       "      <th></th>\n",
       "      <th></th>\n",
       "      <th></th>\n",
       "      <th></th>\n",
       "      <th></th>\n",
       "      <th></th>\n",
       "    </tr>\n",
       "  </thead>\n",
       "  <tbody>\n",
       "    <tr>\n",
       "      <th>165</th>\n",
       "      <td>1</td>\n",
       "      <td>83</td>\n",
       "      <td>68</td>\n",
       "      <td>475</td>\n",
       "      <td>0.445471</td>\n",
       "      <td>1082</td>\n",
       "      <td>2.277895</td>\n",
       "    </tr>\n",
       "    <tr>\n",
       "      <th>354</th>\n",
       "      <td>1</td>\n",
       "      <td>71</td>\n",
       "      <td>74</td>\n",
       "      <td>517</td>\n",
       "      <td>0.755328</td>\n",
       "      <td>1173</td>\n",
       "      <td>2.268859</td>\n",
       "    </tr>\n",
       "    <tr>\n",
       "      <th>517</th>\n",
       "      <td>1</td>\n",
       "      <td>138</td>\n",
       "      <td>72</td>\n",
       "      <td>547</td>\n",
       "      <td>0.217158</td>\n",
       "      <td>1119</td>\n",
       "      <td>2.045704</td>\n",
       "    </tr>\n",
       "    <tr>\n",
       "      <th>2334</th>\n",
       "      <td>1</td>\n",
       "      <td>74</td>\n",
       "      <td>54</td>\n",
       "      <td>373</td>\n",
       "      <td>0.560305</td>\n",
       "      <td>655</td>\n",
       "      <td>1.756032</td>\n",
       "    </tr>\n",
       "    <tr>\n",
       "      <th>693</th>\n",
       "      <td>1</td>\n",
       "      <td>150</td>\n",
       "      <td>71</td>\n",
       "      <td>569</td>\n",
       "      <td>0.244560</td>\n",
       "      <td>965</td>\n",
       "      <td>1.695958</td>\n",
       "    </tr>\n",
       "    <tr>\n",
       "      <th>...</th>\n",
       "      <td>...</td>\n",
       "      <td>...</td>\n",
       "      <td>...</td>\n",
       "      <td>...</td>\n",
       "      <td>...</td>\n",
       "      <td>...</td>\n",
       "      <td>...</td>\n",
       "    </tr>\n",
       "    <tr>\n",
       "      <th>86</th>\n",
       "      <td>2</td>\n",
       "      <td>127</td>\n",
       "      <td>115</td>\n",
       "      <td>650</td>\n",
       "      <td>0.719084</td>\n",
       "      <td>655</td>\n",
       "      <td>1.007692</td>\n",
       "    </tr>\n",
       "    <tr>\n",
       "      <th>1055</th>\n",
       "      <td>2</td>\n",
       "      <td>88</td>\n",
       "      <td>128</td>\n",
       "      <td>664</td>\n",
       "      <td>0.736921</td>\n",
       "      <td>669</td>\n",
       "      <td>1.007530</td>\n",
       "    </tr>\n",
       "    <tr>\n",
       "      <th>2226</th>\n",
       "      <td>2</td>\n",
       "      <td>109</td>\n",
       "      <td>144</td>\n",
       "      <td>837</td>\n",
       "      <td>0.801898</td>\n",
       "      <td>843</td>\n",
       "      <td>1.007168</td>\n",
       "    </tr>\n",
       "    <tr>\n",
       "      <th>1022</th>\n",
       "      <td>2</td>\n",
       "      <td>138</td>\n",
       "      <td>148</td>\n",
       "      <td>873</td>\n",
       "      <td>0.610922</td>\n",
       "      <td>879</td>\n",
       "      <td>1.006873</td>\n",
       "    </tr>\n",
       "    <tr>\n",
       "      <th>921</th>\n",
       "      <td>2</td>\n",
       "      <td>203</td>\n",
       "      <td>142</td>\n",
       "      <td>971</td>\n",
       "      <td>0.748975</td>\n",
       "      <td>976</td>\n",
       "      <td>1.005149</td>\n",
       "    </tr>\n",
       "  </tbody>\n",
       "</table>\n",
       "<p>766 rows × 7 columns</p>\n",
       "</div>"
      ],
      "text/plain": [
       "      category  tag  testId  assessmentItemID    answer  trials  mean_trials\n",
       "user                                                                        \n",
       "165          1   83      68               475  0.445471    1082     2.277895\n",
       "354          1   71      74               517  0.755328    1173     2.268859\n",
       "517          1  138      72               547  0.217158    1119     2.045704\n",
       "2334         1   74      54               373  0.560305     655     1.756032\n",
       "693          1  150      71               569  0.244560     965     1.695958\n",
       "...        ...  ...     ...               ...       ...     ...          ...\n",
       "86           2  127     115               650  0.719084     655     1.007692\n",
       "1055         2   88     128               664  0.736921     669     1.007530\n",
       "2226         2  109     144               837  0.801898     843     1.007168\n",
       "1022         2  138     148               873  0.610922     879     1.006873\n",
       "921          2  203     142               971  0.748975     976     1.005149\n",
       "\n",
       "[766 rows x 7 columns]"
      ]
     },
     "execution_count": 8,
     "metadata": {},
     "output_type": "execute_result"
    }
   ],
   "source": [
    "agg_on_user[\"mean_trials\"] = agg_on_user[\"trials\"] / agg_on_user[\"assessmentItemID\"]\n",
    "agg_on_user[agg_on_user[\"mean_trials\"] > 1.0].sort_values(\"mean_trials\", ascending=False)"
   ]
  },
  {
   "cell_type": "code",
   "execution_count": 9,
   "id": "b587bdfc-07de-4116-98c7-7de9300f122f",
   "metadata": {},
   "outputs": [
    {
     "data": {
      "text/html": [
       "<div>\n",
       "<style scoped>\n",
       "    .dataframe tbody tr th:only-of-type {\n",
       "        vertical-align: middle;\n",
       "    }\n",
       "\n",
       "    .dataframe tbody tr th {\n",
       "        vertical-align: top;\n",
       "    }\n",
       "\n",
       "    .dataframe thead th {\n",
       "        text-align: right;\n",
       "    }\n",
       "</style>\n",
       "<table border=\"1\" class=\"dataframe\">\n",
       "  <thead>\n",
       "    <tr style=\"text-align: right;\">\n",
       "      <th></th>\n",
       "      <th></th>\n",
       "      <th>tag</th>\n",
       "      <th>testId</th>\n",
       "      <th>assessmentItemID</th>\n",
       "      <th>answer</th>\n",
       "      <th>trials</th>\n",
       "    </tr>\n",
       "    <tr>\n",
       "      <th>user</th>\n",
       "      <th>category</th>\n",
       "      <th></th>\n",
       "      <th></th>\n",
       "      <th></th>\n",
       "      <th></th>\n",
       "      <th></th>\n",
       "    </tr>\n",
       "  </thead>\n",
       "  <tbody>\n",
       "    <tr>\n",
       "      <th rowspan=\"3\" valign=\"top\">0</th>\n",
       "      <th>2</th>\n",
       "      <td>8</td>\n",
       "      <td>6</td>\n",
       "      <td>36</td>\n",
       "      <td>0.722222</td>\n",
       "      <td>36</td>\n",
       "    </tr>\n",
       "    <tr>\n",
       "      <th>6</th>\n",
       "      <td>61</td>\n",
       "      <td>50</td>\n",
       "      <td>346</td>\n",
       "      <td>0.791908</td>\n",
       "      <td>346</td>\n",
       "    </tr>\n",
       "    <tr>\n",
       "      <th>8</th>\n",
       "      <td>96</td>\n",
       "      <td>48</td>\n",
       "      <td>363</td>\n",
       "      <td>0.468320</td>\n",
       "      <td>363</td>\n",
       "    </tr>\n",
       "    <tr>\n",
       "      <th rowspan=\"2\" valign=\"top\">1</th>\n",
       "      <th>4</th>\n",
       "      <td>80</td>\n",
       "      <td>102</td>\n",
       "      <td>527</td>\n",
       "      <td>0.822719</td>\n",
       "      <td>581</td>\n",
       "    </tr>\n",
       "    <tr>\n",
       "      <th>9</th>\n",
       "      <td>75</td>\n",
       "      <td>51</td>\n",
       "      <td>352</td>\n",
       "      <td>0.903409</td>\n",
       "      <td>352</td>\n",
       "    </tr>\n",
       "    <tr>\n",
       "      <th>...</th>\n",
       "      <th>...</th>\n",
       "      <td>...</td>\n",
       "      <td>...</td>\n",
       "      <td>...</td>\n",
       "      <td>...</td>\n",
       "      <td>...</td>\n",
       "    </tr>\n",
       "    <tr>\n",
       "      <th>7439</th>\n",
       "      <th>4</th>\n",
       "      <td>4</td>\n",
       "      <td>3</td>\n",
       "      <td>15</td>\n",
       "      <td>0.733333</td>\n",
       "      <td>15</td>\n",
       "    </tr>\n",
       "    <tr>\n",
       "      <th rowspan=\"2\" valign=\"top\">7440</th>\n",
       "      <th>3</th>\n",
       "      <td>3</td>\n",
       "      <td>2</td>\n",
       "      <td>10</td>\n",
       "      <td>0.400000</td>\n",
       "      <td>10</td>\n",
       "    </tr>\n",
       "    <tr>\n",
       "      <th>5</th>\n",
       "      <td>3</td>\n",
       "      <td>1</td>\n",
       "      <td>5</td>\n",
       "      <td>0.400000</td>\n",
       "      <td>5</td>\n",
       "    </tr>\n",
       "    <tr>\n",
       "      <th rowspan=\"2\" valign=\"top\">7441</th>\n",
       "      <th>3</th>\n",
       "      <td>1</td>\n",
       "      <td>1</td>\n",
       "      <td>5</td>\n",
       "      <td>0.200000</td>\n",
       "      <td>5</td>\n",
       "    </tr>\n",
       "    <tr>\n",
       "      <th>4</th>\n",
       "      <td>1</td>\n",
       "      <td>1</td>\n",
       "      <td>4</td>\n",
       "      <td>1.000000</td>\n",
       "      <td>4</td>\n",
       "    </tr>\n",
       "  </tbody>\n",
       "</table>\n",
       "<p>19739 rows × 5 columns</p>\n",
       "</div>"
      ],
      "text/plain": [
       "               tag  testId  assessmentItemID    answer  trials\n",
       "user category                                                 \n",
       "0    2           8       6                36  0.722222      36\n",
       "     6          61      50               346  0.791908     346\n",
       "     8          96      48               363  0.468320     363\n",
       "1    4          80     102               527  0.822719     581\n",
       "     9          75      51               352  0.903409     352\n",
       "...            ...     ...               ...       ...     ...\n",
       "7439 4           4       3                15  0.733333      15\n",
       "7440 3           3       2                10  0.400000      10\n",
       "     5           3       1                 5  0.400000       5\n",
       "7441 3           1       1                 5  0.200000       5\n",
       "     4           1       1                 4  1.000000       4\n",
       "\n",
       "[19739 rows x 5 columns]"
      ]
     },
     "execution_count": 9,
     "metadata": {},
     "output_type": "execute_result"
    }
   ],
   "source": [
    "user_cat_group = train_df.groupby([\"user\", \"category\"])\n",
    "agg_on_user_cat = user_cat_group.agg({\"tag\": \"nunique\",\n",
    "                                      \"testId\": \"nunique\",\n",
    "                                      \"assessmentItemID\": \"nunique\",\n",
    "                                      \"answer\": \"mean\",\n",
    "                                      \n",
    "                                      \"Timestamp\": \"count\"\n",
    "                                     })\n",
    "agg_on_user_cat.rename(columns={\"Timestamp\": \"trials\"}, inplace=True)\n",
    "agg_on_user_cat"
   ]
  },
  {
   "cell_type": "code",
   "execution_count": 10,
   "id": "e00bbb81-fab1-42a8-8a40-d3e6a748beba",
   "metadata": {},
   "outputs": [
    {
     "data": {
      "text/plain": [
       "<seaborn.axisgrid.FacetGrid at 0x7fd3a43eb3a0>"
      ]
     },
     "execution_count": 10,
     "metadata": {},
     "output_type": "execute_result"
    },
    {
     "data": {
      "image/png": "[encoded data removed]",
      "text/plain": [
       "<Figure size 360x360 with 1 Axes>"
      ]
     },
     "metadata": {},
     "output_type": "display_data"
    }
   ],
   "source": [
    "tmp = train_df.groupby([\"user\"]).agg({\"category\": \"max\"})\n",
    "tmp.rename(columns={\"category\": \"max_category\"}, inplace=True)\n",
    "\n",
    "tmp_df = train_df.copy()\n",
    "tmp_df = pd.merge(tmp_df, tmp, on=\"user\", how=\"left\")\n",
    "tmp_df[\"category_prob\"] = tmp_df[\"category\"] / tmp_df[\"max_category\"]\n",
    "agg_on_cat_prob = tmp_df.groupby(\"category_prob\").agg({\"answer\": \"mean\"}).reset_index()\n",
    "sns.lmplot(x=\"category_prob\", y=\"answer\", data=agg_on_cat_prob, line_kws={\"color\": \"orange\"})"
   ]
  },
  {
   "cell_type": "code",
   "execution_count": 11,
   "id": "05a66ea8-bdc4-4339-8a7e-64bba33e34cb",
   "metadata": {},
   "outputs": [
    {
     "data": {
      "text/plain": [
       "(array([1.]), <matplotlib.axes._subplots.AxesSubplot at 0x7fd3a5d1bfd0>)"
      ]
     },
     "execution_count": 11,
     "metadata": {},
     "output_type": "execute_result"
    },
    {
     "data": {
      "image/png": "[encoded data removed]",
      "text/plain": [
       "<Figure size 432x288 with 1 Axes>"
      ]
     },
     "metadata": {},
     "output_type": "display_data"
    }
   ],
   "source": [
    "tmp = test_df.groupby([\"user\"]).agg({\"category\": \"max\"})\n",
    "tmp.rename(columns={\"category\": \"max_category\"}, inplace=True)\n",
    "\n",
    "tmp_df = test_df.copy()\n",
    "tmp_df = pd.merge(tmp_df, tmp, on=\"user\", how=\"left\")\n",
    "tmp_df[\"category_prob\"] = tmp_df[\"category\"] / tmp_df[\"max_category\"]\n",
    "tmp_df[\"category_prob\"].unique(), tmp_df[\"category_prob\"].hist()"
   ]
  },
  {
   "cell_type": "markdown",
   "id": "e871d335-3766-4a29-a7e2-428def30b4a8",
   "metadata": {
    "jp-MarkdownHeadingCollapsed": true,
    "tags": []
   },
   "source": [
    "## assessmentItemID에 대한 features"
   ]
  },
  {
   "cell_type": "code",
   "execution_count": 12,
   "id": "639d22e9-980f-46ca-8b4d-b5f7e91415ba",
   "metadata": {},
   "outputs": [
    {
     "data": {
      "text/html": [
       "<div>\n",
       "<style scoped>\n",
       "    .dataframe tbody tr th:only-of-type {\n",
       "        vertical-align: middle;\n",
       "    }\n",
       "\n",
       "    .dataframe tbody tr th {\n",
       "        vertical-align: top;\n",
       "    }\n",
       "\n",
       "    .dataframe thead th {\n",
       "        text-align: right;\n",
       "    }\n",
       "</style>\n",
       "<table border=\"1\" class=\"dataframe\">\n",
       "  <thead>\n",
       "    <tr style=\"text-align: right;\">\n",
       "      <th></th>\n",
       "      <th>user</th>\n",
       "      <th>answer</th>\n",
       "      <th>trials</th>\n",
       "    </tr>\n",
       "    <tr>\n",
       "      <th>assessmentItemID</th>\n",
       "      <th></th>\n",
       "      <th></th>\n",
       "      <th></th>\n",
       "    </tr>\n",
       "  </thead>\n",
       "  <tbody>\n",
       "    <tr>\n",
       "      <th>A010001001</th>\n",
       "      <td>343</td>\n",
       "      <td>0.922857</td>\n",
       "      <td>350</td>\n",
       "    </tr>\n",
       "    <tr>\n",
       "      <th>A010001002</th>\n",
       "      <td>343</td>\n",
       "      <td>0.960000</td>\n",
       "      <td>350</td>\n",
       "    </tr>\n",
       "    <tr>\n",
       "      <th>A010001003</th>\n",
       "      <td>343</td>\n",
       "      <td>0.905714</td>\n",
       "      <td>350</td>\n",
       "    </tr>\n",
       "    <tr>\n",
       "      <th>A010001004</th>\n",
       "      <td>343</td>\n",
       "      <td>0.945714</td>\n",
       "      <td>350</td>\n",
       "    </tr>\n",
       "    <tr>\n",
       "      <th>A010001005</th>\n",
       "      <td>343</td>\n",
       "      <td>0.882857</td>\n",
       "      <td>350</td>\n",
       "    </tr>\n",
       "    <tr>\n",
       "      <th>...</th>\n",
       "      <td>...</td>\n",
       "      <td>...</td>\n",
       "      <td>...</td>\n",
       "    </tr>\n",
       "    <tr>\n",
       "      <th>A090074002</th>\n",
       "      <td>50</td>\n",
       "      <td>0.480000</td>\n",
       "      <td>50</td>\n",
       "    </tr>\n",
       "    <tr>\n",
       "      <th>A090074003</th>\n",
       "      <td>50</td>\n",
       "      <td>0.580000</td>\n",
       "      <td>50</td>\n",
       "    </tr>\n",
       "    <tr>\n",
       "      <th>A090074004</th>\n",
       "      <td>50</td>\n",
       "      <td>0.360000</td>\n",
       "      <td>50</td>\n",
       "    </tr>\n",
       "    <tr>\n",
       "      <th>A090074005</th>\n",
       "      <td>50</td>\n",
       "      <td>0.400000</td>\n",
       "      <td>50</td>\n",
       "    </tr>\n",
       "    <tr>\n",
       "      <th>A090074006</th>\n",
       "      <td>46</td>\n",
       "      <td>0.478261</td>\n",
       "      <td>46</td>\n",
       "    </tr>\n",
       "  </tbody>\n",
       "</table>\n",
       "<p>9454 rows × 3 columns</p>\n",
       "</div>"
      ],
      "text/plain": [
       "                  user    answer  trials\n",
       "assessmentItemID                        \n",
       "A010001001         343  0.922857     350\n",
       "A010001002         343  0.960000     350\n",
       "A010001003         343  0.905714     350\n",
       "A010001004         343  0.945714     350\n",
       "A010001005         343  0.882857     350\n",
       "...                ...       ...     ...\n",
       "A090074002          50  0.480000      50\n",
       "A090074003          50  0.580000      50\n",
       "A090074004          50  0.360000      50\n",
       "A090074005          50  0.400000      50\n",
       "A090074006          46  0.478261      46\n",
       "\n",
       "[9454 rows x 3 columns]"
      ]
     },
     "execution_count": 12,
     "metadata": {},
     "output_type": "execute_result"
    }
   ],
   "source": [
    "item_group = train_df.groupby(\"assessmentItemID\")\n",
    "agg_on_item = item_group.agg({\"user\": \"nunique\",\n",
    "                              \"answer\": \"mean\",\n",
    "                              \n",
    "                              \"Timestamp\": \"count\"\n",
    "                             })\n",
    "\n",
    "agg_on_item.rename(columns={\"Timestamp\": \"trials\"}, inplace=True)\n",
    "agg_on_item\n",
    "# user_group[\"mean_trails\"] = agg_on_user.trials / agg_o"
   ]
  },
  {
   "cell_type": "code",
   "execution_count": 13,
   "id": "aa07a660-82e5-4088-b965-184fee8bbafe",
   "metadata": {},
   "outputs": [
    {
     "data": {
      "text/plain": [
       "<matplotlib.axes._subplots.AxesSubplot at 0x7fd3a076ce50>"
      ]
     },
     "execution_count": 13,
     "metadata": {},
     "output_type": "execute_result"
    },
    {
     "data": {
      "image/png": "[encoded data removed]",
      "text/plain": [
       "<Figure size 432x288 with 1 Axes>"
      ]
     },
     "metadata": {},
     "output_type": "display_data"
    }
   ],
   "source": [
    "# sns.lmplot(x=\"trials\", y=\"answer\", data=agg_on_item)\n",
    "sns.histplot(x=\"trials\", data=agg_on_item, bins=5)"
   ]
  },
  {
   "cell_type": "markdown",
   "id": "33bfca74-21f1-44aa-830d-896b417f3fa2",
   "metadata": {
    "jp-MarkdownHeadingCollapsed": true,
    "tags": []
   },
   "source": [
    "## tag에 대한 features"
   ]
  },
  {
   "cell_type": "code",
   "execution_count": 14,
   "id": "a417806f-0e0b-498a-a529-0d72ab4458d0",
   "metadata": {},
   "outputs": [
    {
     "data": {
      "text/plain": [
       "Index(['tag_mean_trials'], dtype='object')"
      ]
     },
     "execution_count": 14,
     "metadata": {},
     "output_type": "execute_result"
    }
   ],
   "source": [
    "tmp = train_df.groupby(\"tag\").agg({\"Timestamp\": [\"count\", \"nunique\"]})\n",
    "tmp[\"tag_mean_trials\"] = tmp[\"Timestamp\"][\"count\"] / tmp[\"Timestamp\"][\"nunique\"]\n",
    "tmp = tmp.drop(columns=[\"Timestamp\"])\n",
    "tmp.columns = tmp.columns.droplevel(1)\n",
    "tmp.columns"
   ]
  },
  {
   "cell_type": "code",
   "execution_count": 15,
   "id": "ef2013f6-b0c7-4b7e-abfd-739602b4dc75",
   "metadata": {},
   "outputs": [
    {
     "data": {
      "text/plain": [
       "Index(['category', 'testId', 'assessmentItemID', 'answer', 'trials',\n",
       "       'mean_trials'],\n",
       "      dtype='object')"
      ]
     },
     "execution_count": 15,
     "metadata": {},
     "output_type": "execute_result"
    }
   ],
   "source": [
    "tag_group = train_df.groupby(\"tag\")\n",
    "agg_on_tag = tag_group.agg({\"category\": lambda x: int(str(x.unique()[0])),\n",
    "                            \"testId\": \"nunique\",\n",
    "                            \"assessmentItemID\": \"nunique\",\n",
    "                            \"answer\": \"mean\",\n",
    "                            \n",
    "                            \"Timestamp\": \"count\"\n",
    "                           })\n",
    "\n",
    "agg_on_tag.rename(columns={\"Timestamp\": \"trials\"}, inplace=True)\n",
    "agg_on_tag[\"mean_trials\"] = agg_on_tag.trials / agg_on_tag.assessmentItemID\n",
    "agg_on_tag.columns"
   ]
  },
  {
   "cell_type": "code",
   "execution_count": 16,
   "id": "421104bd-c91a-44d1-83bf-81c07d57ddbb",
   "metadata": {},
   "outputs": [
    {
     "data": {
      "text/plain": [
       "<seaborn.axisgrid.FacetGrid at 0x7fd3a73671f0>"
      ]
     },
     "execution_count": 16,
     "metadata": {},
     "output_type": "execute_result"
    },
    {
     "data": {
      "image/png": "[encoded data removed]",
      "text/plain": [
       "<Figure size 360x360 with 1 Axes>"
      ]
     },
     "metadata": {},
     "output_type": "display_data"
    }
   ],
   "source": [
    "# tag의 노출 빈도(문제 개수)에 따른 정답률\n",
    "tag_item_group = agg_on_tag.groupby([\"assessmentItemID\"]).agg({\"answer\": \"mean\"}).reset_index()\n",
    "sns.lmplot(x=\"assessmentItemID\", y=\"answer\", data=tag_item_group, line_kws={\"color\": \"orange\"})"
   ]
  },
  {
   "cell_type": "code",
   "execution_count": 17,
   "id": "f586dd28-31f6-440f-83c8-81cf991f629e",
   "metadata": {},
   "outputs": [
    {
     "data": {
      "text/plain": [
       "<seaborn.axisgrid.FacetGrid at 0x7fd3a7367850>"
      ]
     },
     "execution_count": 17,
     "metadata": {},
     "output_type": "execute_result"
    },
    {
     "data": {
      "image/png": "[encoded data removed]",
      "text/plain": [
       "<Figure size 360x360 with 1 Axes>"
      ]
     },
     "metadata": {},
     "output_type": "display_data"
    }
   ],
   "source": [
    "# tag에 대하여 학생들이 푼 횟수에 따른 정답률\n",
    "sns.lmplot(x=\"mean_trials\", y=\"answer\", data=agg_on_tag, line_kws={\"color\": \"orange\"})"
   ]
  },
  {
   "cell_type": "code",
   "execution_count": 18,
   "id": "b1e3f1c4-4949-40e2-b28f-ab7ac4cdcd0f",
   "metadata": {},
   "outputs": [],
   "source": [
    "# tag, category 별로 => 큰 상관관계는 없어보임\n",
    "# for cat in range(1, 10):\n",
    "#     sns.lmplot(x=\"trials\", y=\"answer\",\n",
    "#                data=agg_on_tag[agg_on_tag.category == cat], \n",
    "#                line_kws={'color': 'orange'})\n"
   ]
  },
  {
   "cell_type": "code",
   "execution_count": 19,
   "id": "53fd9a77-55f6-43b4-a559-04e91258d2f1",
   "metadata": {},
   "outputs": [
    {
     "data": {
      "text/plain": [
       "(912, 1537)"
      ]
     },
     "execution_count": 19,
     "metadata": {},
     "output_type": "execute_result"
    }
   ],
   "source": [
    "num_tags, num_tests"
   ]
  },
  {
   "cell_type": "code",
   "execution_count": 20,
   "id": "a7d4a100-8e36-433c-9038-b4f0c0700e1e",
   "metadata": {},
   "outputs": [
    {
     "name": "stdout",
     "output_type": "stream",
     "text": [
      "(array([ 1,  2,  3,  4,  5,  6,  7,  8,  9, 12]), array([115, 149, 498,  63,  43,  26,   8,   5,   3,   2]))\n"
     ]
    },
    {
     "data": {
      "text/plain": [
       "<matplotlib.axes._subplots.AxesSubplot at 0x7fd39faaafa0>"
      ]
     },
     "execution_count": 20,
     "metadata": {},
     "output_type": "execute_result"
    },
    {
     "data": {
      "image/png": "[encoded data removed]",
      "text/plain": [
       "<Figure size 432x288 with 1 Axes>"
      ]
     },
     "metadata": {},
     "output_type": "display_data"
    }
   ],
   "source": [
    "# 한개의 tag는 대체로 1 ~ 4개 정도의 test에 속한다\n",
    "print(np.unique(agg_on_tag.testId, return_counts=True))\n",
    "agg_on_tag.testId.plot.hist(bins=11)"
   ]
  },
  {
   "cell_type": "markdown",
   "id": "47d30ae0-0f3b-42e4-bb24-8c24ba1f59de",
   "metadata": {
    "tags": []
   },
   "source": [
    "## testId에 대한 feature engineering"
   ]
  },
  {
   "cell_type": "code",
   "execution_count": 21,
   "id": "2fc8291e-5081-403b-ae68-df5dac60d4d0",
   "metadata": {},
   "outputs": [
    {
     "data": {
      "text/html": [
       "<div>\n",
       "<style scoped>\n",
       "    .dataframe tbody tr th:only-of-type {\n",
       "        vertical-align: middle;\n",
       "    }\n",
       "\n",
       "    .dataframe tbody tr th {\n",
       "        vertical-align: top;\n",
       "    }\n",
       "\n",
       "    .dataframe thead th {\n",
       "        text-align: right;\n",
       "    }\n",
       "</style>\n",
       "<table border=\"1\" class=\"dataframe\">\n",
       "  <thead>\n",
       "    <tr style=\"text-align: right;\">\n",
       "      <th></th>\n",
       "      <th>assessmentItemID</th>\n",
       "      <th>tag</th>\n",
       "      <th>answer</th>\n",
       "    </tr>\n",
       "    <tr>\n",
       "      <th>testId</th>\n",
       "      <th></th>\n",
       "      <th></th>\n",
       "      <th></th>\n",
       "    </tr>\n",
       "  </thead>\n",
       "  <tbody>\n",
       "    <tr>\n",
       "      <th>A010000001</th>\n",
       "      <td>5</td>\n",
       "      <td>1</td>\n",
       "      <td>0.923429</td>\n",
       "    </tr>\n",
       "    <tr>\n",
       "      <th>A010000002</th>\n",
       "      <td>5</td>\n",
       "      <td>2</td>\n",
       "      <td>0.931429</td>\n",
       "    </tr>\n",
       "    <tr>\n",
       "      <th>A010000003</th>\n",
       "      <td>5</td>\n",
       "      <td>3</td>\n",
       "      <td>0.842857</td>\n",
       "    </tr>\n",
       "    <tr>\n",
       "      <th>A010000004</th>\n",
       "      <td>5</td>\n",
       "      <td>3</td>\n",
       "      <td>0.880571</td>\n",
       "    </tr>\n",
       "    <tr>\n",
       "      <th>A010000005</th>\n",
       "      <td>5</td>\n",
       "      <td>2</td>\n",
       "      <td>0.849143</td>\n",
       "    </tr>\n",
       "    <tr>\n",
       "      <th>...</th>\n",
       "      <td>...</td>\n",
       "      <td>...</td>\n",
       "      <td>...</td>\n",
       "    </tr>\n",
       "    <tr>\n",
       "      <th>A090000070</th>\n",
       "      <td>8</td>\n",
       "      <td>4</td>\n",
       "      <td>0.461153</td>\n",
       "    </tr>\n",
       "    <tr>\n",
       "      <th>A090000071</th>\n",
       "      <td>8</td>\n",
       "      <td>5</td>\n",
       "      <td>0.345000</td>\n",
       "    </tr>\n",
       "    <tr>\n",
       "      <th>A090000072</th>\n",
       "      <td>6</td>\n",
       "      <td>2</td>\n",
       "      <td>0.453333</td>\n",
       "    </tr>\n",
       "    <tr>\n",
       "      <th>A090000073</th>\n",
       "      <td>6</td>\n",
       "      <td>3</td>\n",
       "      <td>0.536667</td>\n",
       "    </tr>\n",
       "    <tr>\n",
       "      <th>A090000074</th>\n",
       "      <td>6</td>\n",
       "      <td>3</td>\n",
       "      <td>0.439189</td>\n",
       "    </tr>\n",
       "  </tbody>\n",
       "</table>\n",
       "<p>1537 rows × 3 columns</p>\n",
       "</div>"
      ],
      "text/plain": [
       "            assessmentItemID  tag    answer\n",
       "testId                                     \n",
       "A010000001                 5    1  0.923429\n",
       "A010000002                 5    2  0.931429\n",
       "A010000003                 5    3  0.842857\n",
       "A010000004                 5    3  0.880571\n",
       "A010000005                 5    2  0.849143\n",
       "...                      ...  ...       ...\n",
       "A090000070                 8    4  0.461153\n",
       "A090000071                 8    5  0.345000\n",
       "A090000072                 6    2  0.453333\n",
       "A090000073                 6    3  0.536667\n",
       "A090000074                 6    3  0.439189\n",
       "\n",
       "[1537 rows x 3 columns]"
      ]
     },
     "execution_count": 21,
     "metadata": {},
     "output_type": "execute_result"
    }
   ],
   "source": [
    "agg_on_test = train_df.groupby([\"testId\"]).agg({\"assessmentItemID\": \"nunique\",\n",
    "                                                \"tag\": \"nunique\",\n",
    "                                                \"answer\": \"mean\"\n",
    "                                               })\n",
    "agg_on_test"
   ]
  },
  {
   "cell_type": "code",
   "execution_count": 22,
   "id": "8a329c1e-3250-40b9-bc14-9613b2389b65",
   "metadata": {},
   "outputs": [
    {
     "data": {
      "text/plain": [
       "<matplotlib.axes._subplots.AxesSubplot at 0x7fd3a6699760>"
      ]
     },
     "execution_count": 22,
     "metadata": {},
     "output_type": "execute_result"
    },
    {
     "data": {
      "image/png": "[encoded data removed]",
      "text/plain": [
       "<Figure size 432x288 with 1 Axes>"
      ]
     },
     "metadata": {},
     "output_type": "display_data"
    }
   ],
   "source": [
    "# 시험지 별 tag 개수에 따른 정답률\n",
    "agg_on_test_tag = train_df.groupby(\"testId\").agg({\"tag\": \"nunique\", \"answer\": \"mean\"})\n",
    "agg_on_test_tag.tag.hist(bins=9)"
   ]
  },
  {
   "cell_type": "code",
   "execution_count": 23,
   "id": "c5e8ce5a-66cb-47ff-b4a2-8f483e081672",
   "metadata": {},
   "outputs": [
    {
     "data": {
      "text/plain": [
       "<matplotlib.axes._subplots.AxesSubplot at 0x7fd39b462df0>"
      ]
     },
     "execution_count": 23,
     "metadata": {},
     "output_type": "execute_result"
    },
    {
     "data": {
      "image/png": "[encoded data removed]",
      "text/plain": [
       "<Figure size 360x360 with 1 Axes>"
      ]
     },
     "metadata": {},
     "output_type": "display_data"
    },
    {
     "data": {
      "image/png": "[encoded data removed]",
      "text/plain": [
       "<Figure size 432x288 with 1 Axes>"
      ]
     },
     "metadata": {},
     "output_type": "display_data"
    }
   ],
   "source": [
    "# 시험지 별 tag 개수에 따른 정답률\n",
    "sns.lmplot(x=\"tag\", y=\"answer\", data=agg_on_test_tag, line_kws={\"color\": \"orange\"})\n",
    "agg_on_test_tag.groupby([\"tag\"]).agg({\"answer\": \"mean\"}).plot.bar()"
   ]
  },
  {
   "cell_type": "code",
   "execution_count": 24,
   "id": "40ee7c28-92a9-43eb-a99f-b820bcd26ca4",
   "metadata": {},
   "outputs": [
    {
     "data": {
      "text/plain": [
       "<matplotlib.axes._subplots.AxesSubplot at 0x7fd3a668e3d0>"
      ]
     },
     "execution_count": 24,
     "metadata": {},
     "output_type": "execute_result"
    },
    {
     "data": {
      "image/png": "[encoded data removed]",
      "text/plain": [
       "<Figure size 432x288 with 1 Axes>"
      ]
     },
     "metadata": {},
     "output_type": "display_data"
    }
   ],
   "source": [
    "valid_df = train_df[(train_df.user != train_df.user.shift(-1)) &\n",
    "                    (train_df.label == \"train\")]\n",
    "agg_on_test_tag[agg_on_test_tag.index.isin(valid_df[\"testId\"].unique())].tag.hist(bins=8)"
   ]
  },
  {
   "cell_type": "code",
   "execution_count": 25,
   "id": "eea2198f-d94e-4251-948c-c6bc8b5f4811",
   "metadata": {},
   "outputs": [
    {
     "data": {
      "text/plain": [
       "<matplotlib.axes._subplots.AxesSubplot at 0x7fd3a8358430>"
      ]
     },
     "execution_count": 25,
     "metadata": {},
     "output_type": "execute_result"
    },
    {
     "data": {
      "image/png": "[encoded data removed]",
      "text/plain": [
       "<Figure size 432x288 with 1 Axes>"
      ]
     },
     "metadata": {},
     "output_type": "display_data"
    }
   ],
   "source": [
    "# test 데이터의 시험지 특징()\n",
    "agg_on_test_tag[agg_on_test_tag.index.isin(test_df[\"testId\"].unique())].tag.hist(bins=8)\n",
    "# np.unique(agg_on_test_tag[agg_on_test_tag.index.isin(test_df[\"testId\"].unique())].tag, return_counts=True)"
   ]
  },
  {
   "cell_type": "markdown",
   "id": "76349de9-5522-44d5-94e9-4311112f2470",
   "metadata": {
    "tags": []
   },
   "source": [
    "## category에 대한 features"
   ]
  },
  {
   "cell_type": "code",
   "execution_count": 26,
   "id": "8f04a8ca-9b60-43d3-83ca-3e93c1a8b02e",
   "metadata": {},
   "outputs": [
    {
     "data": {
      "text/html": [
       "<div>\n",
       "<style scoped>\n",
       "    .dataframe tbody tr th:only-of-type {\n",
       "        vertical-align: middle;\n",
       "    }\n",
       "\n",
       "    .dataframe tbody tr th {\n",
       "        vertical-align: top;\n",
       "    }\n",
       "\n",
       "    .dataframe thead th {\n",
       "        text-align: right;\n",
       "    }\n",
       "</style>\n",
       "<table border=\"1\" class=\"dataframe\">\n",
       "  <thead>\n",
       "    <tr style=\"text-align: right;\">\n",
       "      <th></th>\n",
       "      <th>tag</th>\n",
       "      <th>testId</th>\n",
       "      <th>assessmentItemID</th>\n",
       "      <th>answer</th>\n",
       "      <th>trials</th>\n",
       "      <th>mean_trials</th>\n",
       "    </tr>\n",
       "    <tr>\n",
       "      <th>category</th>\n",
       "      <th></th>\n",
       "      <th></th>\n",
       "      <th></th>\n",
       "      <th></th>\n",
       "      <th></th>\n",
       "      <th></th>\n",
       "    </tr>\n",
       "  </thead>\n",
       "  <tbody>\n",
       "    <tr>\n",
       "      <th>1</th>\n",
       "      <td>64</td>\n",
       "      <td>192</td>\n",
       "      <td>975</td>\n",
       "      <td>0.801686</td>\n",
       "      <td>303675</td>\n",
       "      <td>311.461538</td>\n",
       "    </tr>\n",
       "    <tr>\n",
       "      <th>2</th>\n",
       "      <td>70</td>\n",
       "      <td>194</td>\n",
       "      <td>1022</td>\n",
       "      <td>0.738023</td>\n",
       "      <td>297263</td>\n",
       "      <td>290.863992</td>\n",
       "    </tr>\n",
       "    <tr>\n",
       "      <th>3</th>\n",
       "      <td>85</td>\n",
       "      <td>198</td>\n",
       "      <td>1060</td>\n",
       "      <td>0.702210</td>\n",
       "      <td>303365</td>\n",
       "      <td>286.193396</td>\n",
       "    </tr>\n",
       "    <tr>\n",
       "      <th>4</th>\n",
       "      <td>81</td>\n",
       "      <td>198</td>\n",
       "      <td>1031</td>\n",
       "      <td>0.680256</td>\n",
       "      <td>300403</td>\n",
       "      <td>291.370514</td>\n",
       "    </tr>\n",
       "    <tr>\n",
       "      <th>5</th>\n",
       "      <td>98</td>\n",
       "      <td>193</td>\n",
       "      <td>1266</td>\n",
       "      <td>0.659098</td>\n",
       "      <td>306317</td>\n",
       "      <td>241.956556</td>\n",
       "    </tr>\n",
       "    <tr>\n",
       "      <th>6</th>\n",
       "      <td>93</td>\n",
       "      <td>186</td>\n",
       "      <td>1213</td>\n",
       "      <td>0.712279</td>\n",
       "      <td>296284</td>\n",
       "      <td>244.257214</td>\n",
       "    </tr>\n",
       "    <tr>\n",
       "      <th>7</th>\n",
       "      <td>176</td>\n",
       "      <td>164</td>\n",
       "      <td>1322</td>\n",
       "      <td>0.521761</td>\n",
       "      <td>315177</td>\n",
       "      <td>238.409228</td>\n",
       "    </tr>\n",
       "    <tr>\n",
       "      <th>8</th>\n",
       "      <td>150</td>\n",
       "      <td>138</td>\n",
       "      <td>1050</td>\n",
       "      <td>0.500826</td>\n",
       "      <td>271841</td>\n",
       "      <td>258.896190</td>\n",
       "    </tr>\n",
       "    <tr>\n",
       "      <th>9</th>\n",
       "      <td>96</td>\n",
       "      <td>74</td>\n",
       "      <td>515</td>\n",
       "      <td>0.454680</td>\n",
       "      <td>131631</td>\n",
       "      <td>255.594175</td>\n",
       "    </tr>\n",
       "  </tbody>\n",
       "</table>\n",
       "</div>"
      ],
      "text/plain": [
       "          tag  testId  assessmentItemID    answer  trials  mean_trials\n",
       "category                                                              \n",
       "1          64     192               975  0.801686  303675   311.461538\n",
       "2          70     194              1022  0.738023  297263   290.863992\n",
       "3          85     198              1060  0.702210  303365   286.193396\n",
       "4          81     198              1031  0.680256  300403   291.370514\n",
       "5          98     193              1266  0.659098  306317   241.956556\n",
       "6          93     186              1213  0.712279  296284   244.257214\n",
       "7         176     164              1322  0.521761  315177   238.409228\n",
       "8         150     138              1050  0.500826  271841   258.896190\n",
       "9          96      74               515  0.454680  131631   255.594175"
      ]
     },
     "execution_count": 26,
     "metadata": {},
     "output_type": "execute_result"
    }
   ],
   "source": [
    "cat_group = train_df.groupby(\"category\")\n",
    "agg_on_cat = cat_group.agg({\"tag\": \"nunique\",\n",
    "                            \"testId\": \"nunique\",\n",
    "                            \"assessmentItemID\": \"nunique\",\n",
    "                            \"answer\": \"mean\",\n",
    "                            \"Timestamp\": \"count\"\n",
    "                           })\n",
    "agg_on_cat.rename(columns={\"Timestamp\": \"trials\"}, inplace=True)\n",
    "agg_on_cat[\"mean_trials\"] = agg_on_cat.trials / agg_on_cat.assessmentItemID\n",
    "agg_on_cat"
   ]
  },
  {
   "cell_type": "code",
   "execution_count": 27,
   "id": "a8217a16-6da9-4ccb-960d-ca5e2827e256",
   "metadata": {},
   "outputs": [
    {
     "data": {
      "text/plain": [
       "<seaborn.axisgrid.FacetGrid at 0x7fd3ab3385b0>"
      ]
     },
     "execution_count": 27,
     "metadata": {},
     "output_type": "execute_result"
    },
    {
     "data": {
      "image/png": "[encoded data removed]",
      "text/plain": [
       "<Figure size 432x288 with 1 Axes>"
      ]
     },
     "metadata": {},
     "output_type": "display_data"
    },
    {
     "data": {
      "image/png": "[encoded data removed]",
      "text/plain": [
       "<Figure size 360x360 with 1 Axes>"
      ]
     },
     "metadata": {},
     "output_type": "display_data"
    }
   ],
   "source": [
    "sns.barplot(x=\"category\", y=\"answer\", data=agg_on_cat.reset_index())\n",
    "sns.lmplot(x=\"category\", y=\"mean_trials\", data=agg_on_cat.reset_index(), line_kws={'color': 'orange'})"
   ]
  },
  {
   "cell_type": "markdown",
   "id": "f4c91a4a-3988-4827-9199-59f63b191776",
   "metadata": {
    "tags": []
   },
   "source": [
    "## 유사한 tag끼리 묶기(같은 시험에 등장하는 tag들끼리 묶기) => chapter"
   ]
  },
  {
   "cell_type": "code",
   "execution_count": 28,
   "id": "63d15135-daed-47d4-8a06-1f43b45fa44b",
   "metadata": {},
   "outputs": [
    {
     "data": {
      "text/plain": [
       "(912, 912)"
      ]
     },
     "execution_count": 28,
     "metadata": {},
     "output_type": "execute_result"
    }
   ],
   "source": [
    "num_tags, train_df.tag.nunique()"
   ]
  },
  {
   "cell_type": "code",
   "execution_count": 29,
   "id": "a30c5d7b-8f73-4f11-9828-c05801599b0d",
   "metadata": {},
   "outputs": [],
   "source": [
    "tags_by_test = train_df.groupby([\"testId\"]).agg({\"tag\": lambda x: set(x.unique())})\n",
    "tags_by_test.columns = [\"knowledgeTagSet\"]"
   ]
  },
  {
   "cell_type": "code",
   "execution_count": 30,
   "id": "c48d3494-8372-4e59-a1af-715b36939f65",
   "metadata": {},
   "outputs": [
    {
     "data": {
      "text/plain": [
       "461"
      ]
     },
     "execution_count": 30,
     "metadata": {},
     "output_type": "execute_result"
    }
   ],
   "source": [
    "tag_set_by_test = tags_by_test.knowledgeTagSet.values\n",
    "chapter = [tag_set_by_test[0]]\n",
    "for tags in tag_set_by_test[1:]:\n",
    "    is_in_group = False\n",
    "    for idx, chap in enumerate(chapter):\n",
    "        if tags & chap:\n",
    "            chapter[idx] = chap | tags\n",
    "            is_in_group = True\n",
    "    if not is_in_group:\n",
    "        chapter.append(tags)\n",
    "        \n",
    "len(chapter)"
   ]
  },
  {
   "cell_type": "code",
   "execution_count": 31,
   "id": "39820fce-e90b-4b33-9e9d-bba70ee4e82e",
   "metadata": {},
   "outputs": [
    {
     "data": {
      "text/plain": [
       "912"
      ]
     },
     "execution_count": 31,
     "metadata": {},
     "output_type": "execute_result"
    }
   ],
   "source": [
    "chapter_dict = {}\n",
    "for idx, tags in enumerate(chapter):\n",
    "    for tag in tags:\n",
    "        chapter_dict[tag] = idx\n",
    "len(chapter_dict.keys())"
   ]
  },
  {
   "cell_type": "code",
   "execution_count": 32,
   "id": "8e94c6e4-eac6-4e82-8f31-421b5a984b88",
   "metadata": {},
   "outputs": [],
   "source": [
    "train_df[\"chapter\"] = train_df.tag.apply(lambda x: chapter_dict[x])"
   ]
  },
  {
   "cell_type": "code",
   "execution_count": 33,
   "id": "0e5c585a-db56-4cee-a151-a08bf3637767",
   "metadata": {},
   "outputs": [
    {
     "data": {
      "text/html": [
       "<div>\n",
       "<style scoped>\n",
       "    .dataframe tbody tr th:only-of-type {\n",
       "        vertical-align: middle;\n",
       "    }\n",
       "\n",
       "    .dataframe tbody tr th {\n",
       "        vertical-align: top;\n",
       "    }\n",
       "\n",
       "    .dataframe thead th {\n",
       "        text-align: right;\n",
       "    }\n",
       "</style>\n",
       "<table border=\"1\" class=\"dataframe\">\n",
       "  <thead>\n",
       "    <tr style=\"text-align: right;\">\n",
       "      <th></th>\n",
       "      <th>testId</th>\n",
       "      <th>assessmentItemID</th>\n",
       "      <th>tag</th>\n",
       "      <th>answer</th>\n",
       "      <th>trials</th>\n",
       "      <th>mean_trials</th>\n",
       "    </tr>\n",
       "    <tr>\n",
       "      <th>chapter</th>\n",
       "      <th></th>\n",
       "      <th></th>\n",
       "      <th></th>\n",
       "      <th></th>\n",
       "      <th></th>\n",
       "      <th></th>\n",
       "    </tr>\n",
       "  </thead>\n",
       "  <tbody>\n",
       "    <tr>\n",
       "      <th>0</th>\n",
       "      <td>3</td>\n",
       "      <td>16</td>\n",
       "      <td>2</td>\n",
       "      <td>0.920714</td>\n",
       "      <td>5600</td>\n",
       "      <td>350.000000</td>\n",
       "    </tr>\n",
       "    <tr>\n",
       "      <th>1</th>\n",
       "      <td>6</td>\n",
       "      <td>31</td>\n",
       "      <td>5</td>\n",
       "      <td>0.873997</td>\n",
       "      <td>10349</td>\n",
       "      <td>333.838710</td>\n",
       "    </tr>\n",
       "    <tr>\n",
       "      <th>2</th>\n",
       "      <td>3</td>\n",
       "      <td>13</td>\n",
       "      <td>2</td>\n",
       "      <td>0.852527</td>\n",
       "      <td>4550</td>\n",
       "      <td>350.000000</td>\n",
       "    </tr>\n",
       "    <tr>\n",
       "      <th>3</th>\n",
       "      <td>3</td>\n",
       "      <td>18</td>\n",
       "      <td>1</td>\n",
       "      <td>0.838571</td>\n",
       "      <td>6300</td>\n",
       "      <td>350.000000</td>\n",
       "    </tr>\n",
       "    <tr>\n",
       "      <th>4</th>\n",
       "      <td>3</td>\n",
       "      <td>18</td>\n",
       "      <td>1</td>\n",
       "      <td>0.849524</td>\n",
       "      <td>6300</td>\n",
       "      <td>350.000000</td>\n",
       "    </tr>\n",
       "    <tr>\n",
       "      <th>...</th>\n",
       "      <td>...</td>\n",
       "      <td>...</td>\n",
       "      <td>...</td>\n",
       "      <td>...</td>\n",
       "      <td>...</td>\n",
       "      <td>...</td>\n",
       "    </tr>\n",
       "    <tr>\n",
       "      <th>452</th>\n",
       "      <td>1</td>\n",
       "      <td>6</td>\n",
       "      <td>1</td>\n",
       "      <td>0.483333</td>\n",
       "      <td>900</td>\n",
       "      <td>150.000000</td>\n",
       "    </tr>\n",
       "    <tr>\n",
       "      <th>453</th>\n",
       "      <td>3</td>\n",
       "      <td>21</td>\n",
       "      <td>4</td>\n",
       "      <td>0.455903</td>\n",
       "      <td>3549</td>\n",
       "      <td>169.000000</td>\n",
       "    </tr>\n",
       "    <tr>\n",
       "      <th>457</th>\n",
       "      <td>7</td>\n",
       "      <td>52</td>\n",
       "      <td>7</td>\n",
       "      <td>0.482339</td>\n",
       "      <td>5096</td>\n",
       "      <td>98.000000</td>\n",
       "    </tr>\n",
       "    <tr>\n",
       "      <th>459</th>\n",
       "      <td>3</td>\n",
       "      <td>22</td>\n",
       "      <td>6</td>\n",
       "      <td>0.449857</td>\n",
       "      <td>1396</td>\n",
       "      <td>63.454545</td>\n",
       "    </tr>\n",
       "    <tr>\n",
       "      <th>460</th>\n",
       "      <td>3</td>\n",
       "      <td>18</td>\n",
       "      <td>3</td>\n",
       "      <td>0.476562</td>\n",
       "      <td>896</td>\n",
       "      <td>49.777778</td>\n",
       "    </tr>\n",
       "  </tbody>\n",
       "</table>\n",
       "<p>447 rows × 6 columns</p>\n",
       "</div>"
      ],
      "text/plain": [
       "         testId  assessmentItemID  tag    answer  trials  mean_trials\n",
       "chapter                                                              \n",
       "0             3                16    2  0.920714    5600   350.000000\n",
       "1             6                31    5  0.873997   10349   333.838710\n",
       "2             3                13    2  0.852527    4550   350.000000\n",
       "3             3                18    1  0.838571    6300   350.000000\n",
       "4             3                18    1  0.849524    6300   350.000000\n",
       "...         ...               ...  ...       ...     ...          ...\n",
       "452           1                 6    1  0.483333     900   150.000000\n",
       "453           3                21    4  0.455903    3549   169.000000\n",
       "457           7                52    7  0.482339    5096    98.000000\n",
       "459           3                22    6  0.449857    1396    63.454545\n",
       "460           3                18    3  0.476562     896    49.777778\n",
       "\n",
       "[447 rows x 6 columns]"
      ]
     },
     "execution_count": 33,
     "metadata": {},
     "output_type": "execute_result"
    }
   ],
   "source": [
    "agg_on_chapter = train_df.groupby([\"chapter\"]).agg({\"testId\": \"nunique\",\n",
    "                                                    \"assessmentItemID\": \"nunique\",\n",
    "                                                    \"tag\": \"nunique\",\n",
    "                                                    \"answer\": \"mean\",\n",
    "                                                    \n",
    "                                                    \"Timestamp\": \"count\"})\n",
    "agg_on_chapter.rename(columns={\"Timestamp\": \"trials\"}, inplace=True)\n",
    "agg_on_chapter[\"mean_trials\"] = agg_on_chapter[\"trials\"] / agg_on_chapter[\"assessmentItemID\"]\n",
    "agg_on_chapter"
   ]
  },
  {
   "cell_type": "code",
   "execution_count": 34,
   "id": "93bc4698-1dce-4622-93fd-a9d650a33551",
   "metadata": {},
   "outputs": [
    {
     "data": {
      "text/plain": [
       "<matplotlib.axes._subplots.AxesSubplot at 0x7fd39e720a60>"
      ]
     },
     "execution_count": 34,
     "metadata": {},
     "output_type": "execute_result"
    },
    {
     "data": {
      "image/png": "[encoded data removed]",
      "text/plain": [
       "<Figure size 432x288 with 1 Axes>"
      ]
     },
     "metadata": {},
     "output_type": "display_data"
    }
   ],
   "source": [
    "agg_on_chapter.answer.plot.hist()"
   ]
  },
  {
   "cell_type": "markdown",
   "id": "cab06494-2580-4a48-908f-25dff2bd0fff",
   "metadata": {
    "tags": []
   },
   "source": [
    "## 시간(timestamp)에 따른 정답률 관찰\n",
    "유의미하다고 볼 수 있는 것은 month & hour"
   ]
  },
  {
   "cell_type": "code",
   "execution_count": 35,
   "id": "c73249fe-0e7d-4289-91a8-155719158087",
   "metadata": {},
   "outputs": [
    {
     "data": {
      "text/plain": [
       "<matplotlib.axes._subplots.AxesSubplot at 0x7fd39da4c3d0>"
      ]
     },
     "execution_count": 35,
     "metadata": {},
     "output_type": "execute_result"
    },
    {
     "data": {
      "image/png": "[encoded data removed]",
      "text/plain": [
       "<Figure size 432x288 with 1 Axes>"
      ]
     },
     "metadata": {},
     "output_type": "display_data"
    }
   ],
   "source": [
    "sns.histplot(train_df[train_df.label == \"train\"].Timestamp.astype(int) / 10**9)"
   ]
  },
  {
   "cell_type": "code",
   "execution_count": 36,
   "id": "3f4b775c-64a2-4280-bc98-7efb10be064e",
   "metadata": {},
   "outputs": [
    {
     "data": {
      "text/plain": [
       "<matplotlib.axes._subplots.AxesSubplot at 0x7fd3a7cb9dc0>"
      ]
     },
     "execution_count": 36,
     "metadata": {},
     "output_type": "execute_result"
    },
    {
     "data": {
      "image/png": "[encoded data removed]",
      "text/plain": [
       "<Figure size 432x288 with 1 Axes>"
      ]
     },
     "metadata": {},
     "output_type": "display_data"
    }
   ],
   "source": [
    "sns.histplot(valid_df.Timestamp.astype(int) / 10**9)"
   ]
  },
  {
   "cell_type": "code",
   "execution_count": 37,
   "id": "539adb60-6353-4dd5-aded-11fa4fb43663",
   "metadata": {},
   "outputs": [
    {
     "data": {
      "text/plain": [
       "<matplotlib.axes._subplots.AxesSubplot at 0x7fd3a5a79730>"
      ]
     },
     "execution_count": 37,
     "metadata": {},
     "output_type": "execute_result"
    },
    {
     "data": {
      "image/png": "[encoded data removed]",
      "text/plain": [
       "<Figure size 432x288 with 1 Axes>"
      ]
     },
     "metadata": {},
     "output_type": "display_data"
    }
   ],
   "source": [
    "sns.histplot(test_df.Timestamp.astype(int) / 10**9)"
   ]
  },
  {
   "cell_type": "code",
   "execution_count": 38,
   "id": "be3b64b4-e7af-4052-bff8-335f56e05cba",
   "metadata": {},
   "outputs": [],
   "source": [
    "agg_on_weekday = train_df.groupby([\"weekday\"]).agg({\"answer\": \"mean\"})\n",
    "agg_on_month = train_df.groupby([\"month\"]).agg({\"answer\": \"mean\"})\n",
    "agg_on_hour = train_df.groupby([\"hour\"]).agg({\"answer\": \"mean\"})\n",
    "agg_on_day = train_df.groupby([\"day\"]).agg({\"answer\": \"mean\"})"
   ]
  },
  {
   "cell_type": "code",
   "execution_count": 39,
   "id": "cb198596-f36c-448d-a9e9-8bd7b32969e2",
   "metadata": {},
   "outputs": [
    {
     "data": {
      "text/plain": [
       "<matplotlib.axes._subplots.AxesSubplot at 0x7fd3a4a7b5b0>"
      ]
     },
     "execution_count": 39,
     "metadata": {},
     "output_type": "execute_result"
    },
    {
     "data": {
      "image/png": "[encoded data removed]",
      "text/plain": [
       "<Figure size 432x288 with 1 Axes>"
      ]
     },
     "metadata": {},
     "output_type": "display_data"
    },
    {
     "data": {
      "image/png": "[encoded data removed]",
      "text/plain": [
       "<Figure size 432x288 with 1 Axes>"
      ]
     },
     "metadata": {},
     "output_type": "display_data"
    },
    {
     "data": {
      "image/png": "[encoded data removed]",
      "text/plain": [
       "<Figure size 432x288 with 1 Axes>"
      ]
     },
     "metadata": {},
     "output_type": "display_data"
    },
    {
     "data": {
      "image/png": "[encoded data removed]",
      "text/plain": [
       "<Figure size 432x288 with 1 Axes>"
      ]
     },
     "metadata": {},
     "output_type": "display_data"
    }
   ],
   "source": [
    "agg_on_weekday.plot.bar()\n",
    "agg_on_month.plot.bar()\n",
    "agg_on_hour.plot.bar()\n",
    "agg_on_day.plot.bar()"
   ]
  },
  {
   "cell_type": "markdown",
   "id": "4ab2917f-e15c-42a3-9e2a-4986289f134b",
   "metadata": {
    "tags": []
   },
   "source": [
    "## 이전 문제를 푸는데 걸린 시간: prev elapsed, prev test elapsed"
   ]
  },
  {
   "cell_type": "code",
   "execution_count": 40,
   "id": "e3e77948-f398-4b3c-8ef1-ef1a0a9bb220",
   "metadata": {},
   "outputs": [],
   "source": [
    "prev_elapsed = train_df[[\"user\", \"Timestamp\"]].groupby(\"user\").diff()[\"Timestamp\"].dt.seconds\n",
    "prev_test_elapsed = train_df[[\"user\", \"testId\", \"Timestamp\"]].groupby([\"user\", \"testId\"]).diff()[\"Timestamp\"].dt.seconds"
   ]
  },
  {
   "cell_type": "markdown",
   "id": "49b15fd8-7bbe-4e50-97f2-380619c2dd10",
   "metadata": {
    "tags": []
   },
   "source": [
    "## 문제 번호에 따른 난이도\n",
    "마지막 문항에 가까운 정도를 나타내는 feature == last_prob </br>\n",
    "마지막 문제면 1, 마지막 문제에서 멀어질 수록 0에 가까움"
   ]
  },
  {
   "cell_type": "code",
   "execution_count": 41,
   "id": "21532714-251c-4f8b-9dd1-367f62f70b6b",
   "metadata": {},
   "outputs": [
    {
     "data": {
      "text/plain": [
       "<seaborn.axisgrid.FacetGrid at 0x7fd39e47a790>"
      ]
     },
     "execution_count": 41,
     "metadata": {},
     "output_type": "execute_result"
    },
    {
     "data": {
      "image/png": "[encoded data removed]",
      "text/plain": [
       "<Figure size 360x360 with 1 Axes>"
      ]
     },
     "metadata": {},
     "output_type": "display_data"
    }
   ],
   "source": [
    "tmp = train_df.groupby([\"testId\"]).agg({\"item\": \"max\"})\n",
    "tmp.rename(columns={\"item\": \"last_prob_no\"}, inplace=True)\n",
    "\n",
    "tmp_df = train_df.copy()\n",
    "tmp_df = pd.merge(tmp_df, tmp, on=\"testId\", how=\"left\")\n",
    "tmp_df[\"last_prob\"] = tmp_df[\"item\"] / tmp_df[\"last_prob_no\"]\n",
    "tmp_df = tmp_df.drop(\"last_prob_no\", axis=1)\n",
    "\n",
    "last_prob_group = tmp_df.groupby(\"last_prob\").agg({\"answer\": \"mean\"}).reset_index()\n",
    "sns.lmplot(x=\"last_prob\", y=\"answer\", data=last_prob_group)"
   ]
  },
  {
   "cell_type": "code",
   "execution_count": 42,
   "id": "3cbd34c2-7954-4a1b-81eb-1716f15f6942",
   "metadata": {},
   "outputs": [
    {
     "data": {
      "text/plain": [
       "<matplotlib.axes._subplots.AxesSubplot at 0x7fd3a278f700>"
      ]
     },
     "execution_count": 42,
     "metadata": {},
     "output_type": "execute_result"
    },
    {
     "data": {
      "image/png": "[encoded data removed]",
      "text/plain": [
       "<Figure size 432x288 with 1 Axes>"
      ]
     },
     "metadata": {},
     "output_type": "display_data"
    }
   ],
   "source": [
    "tmp = test_df.groupby([\"testId\"]).agg({\"item\": \"max\"})\n",
    "tmp.rename(columns={\"item\": \"last_prob_no\"}, inplace=True)\n",
    "\n",
    "tmp_df = test_df.copy()\n",
    "tmp_df = pd.merge(tmp_df, tmp, on=\"testId\", how=\"left\")\n",
    "tmp_df[\"last_prob\"] = tmp_df[\"item\"] / tmp_df[\"last_prob_no\"]\n",
    "tmp_df[\"last_prob\"].hist()"
   ]
  },
  {
   "cell_type": "markdown",
   "id": "12255704-885c-4405-82ac-1dd07e4fab33",
   "metadata": {
    "tags": []
   },
   "source": [
    "## 시험지 번호에 따른 난이도"
   ]
  },
  {
   "cell_type": "code",
   "execution_count": 43,
   "id": "116d2fb7-4896-4035-9fc0-c4aad689a50e",
   "metadata": {},
   "outputs": [
    {
     "data": {
      "text/html": [
       "<div>\n",
       "<style scoped>\n",
       "    .dataframe tbody tr th:only-of-type {\n",
       "        vertical-align: middle;\n",
       "    }\n",
       "\n",
       "    .dataframe tbody tr th {\n",
       "        vertical-align: top;\n",
       "    }\n",
       "\n",
       "    .dataframe thead th {\n",
       "        text-align: right;\n",
       "    }\n",
       "</style>\n",
       "<table border=\"1\" class=\"dataframe\">\n",
       "  <thead>\n",
       "    <tr style=\"text-align: right;\">\n",
       "      <th></th>\n",
       "      <th>last_test_no</th>\n",
       "    </tr>\n",
       "    <tr>\n",
       "      <th>category</th>\n",
       "      <th></th>\n",
       "    </tr>\n",
       "  </thead>\n",
       "  <tbody>\n",
       "    <tr>\n",
       "      <th>1</th>\n",
       "      <td>192</td>\n",
       "    </tr>\n",
       "    <tr>\n",
       "      <th>2</th>\n",
       "      <td>195</td>\n",
       "    </tr>\n",
       "    <tr>\n",
       "      <th>3</th>\n",
       "      <td>198</td>\n",
       "    </tr>\n",
       "    <tr>\n",
       "      <th>4</th>\n",
       "      <td>198</td>\n",
       "    </tr>\n",
       "    <tr>\n",
       "      <th>5</th>\n",
       "      <td>193</td>\n",
       "    </tr>\n",
       "    <tr>\n",
       "      <th>6</th>\n",
       "      <td>186</td>\n",
       "    </tr>\n",
       "    <tr>\n",
       "      <th>7</th>\n",
       "      <td>164</td>\n",
       "    </tr>\n",
       "    <tr>\n",
       "      <th>8</th>\n",
       "      <td>138</td>\n",
       "    </tr>\n",
       "    <tr>\n",
       "      <th>9</th>\n",
       "      <td>74</td>\n",
       "    </tr>\n",
       "  </tbody>\n",
       "</table>\n",
       "</div>"
      ],
      "text/plain": [
       "          last_test_no\n",
       "category              \n",
       "1                  192\n",
       "2                  195\n",
       "3                  198\n",
       "4                  198\n",
       "5                  193\n",
       "6                  186\n",
       "7                  164\n",
       "8                  138\n",
       "9                   74"
      ]
     },
     "execution_count": 43,
     "metadata": {},
     "output_type": "execute_result"
    }
   ],
   "source": [
    "tmp = train_df.groupby([\"category\"]).agg({\"test\": \"max\"})\n",
    "tmp.rename(columns={\"test\": \"last_test_no\"}, inplace=True)\n",
    "# tmp\n",
    "# df = pd.merge(df, tmp, on=\"category\", how=\"left\")\n",
    "# df[\"test\"] / df[\"last_test_no\"]\n",
    "# df = df.drop(\"last_test_no\", axis=1)\n",
    "tmp"
   ]
  },
  {
   "cell_type": "markdown",
   "id": "1bb99292-1584-433c-ab20-cbd6d58083fc",
   "metadata": {
    "tags": []
   },
   "source": [
    "## 반복적으로 푼 문제가 있는가?"
   ]
  },
  {
   "cell_type": "code",
   "execution_count": 44,
   "id": "369dae1f-def1-44f0-b229-a433b8201be1",
   "metadata": {},
   "outputs": [],
   "source": [
    "user_prob_group = train_df.groupby([\"user\", \"assessmentItemID\"]).agg({\"answer\": \"count\"})\n",
    "user_prob_group.rename(columns={\"answer\": \"attempt\"}, inplace=True)\n",
    "user_prob_group.sort_values(\"attempt\", ascending=False, inplace=True)"
   ]
  },
  {
   "cell_type": "code",
   "execution_count": 45,
   "id": "741a4441-8388-45d8-af72-cb585e195d6e",
   "metadata": {},
   "outputs": [],
   "source": [
    "attempt_type = (train_df.groupby([\"user\", \"assessmentItemID\"])\n",
    "                .cumcount()\n",
    "                .apply(lambda x: \"first attempt\" if x == 0 else \"repeated attempt\"))\n",
    "train_df[\"attempt_type\"] = attempt_type"
   ]
  },
  {
   "cell_type": "code",
   "execution_count": 46,
   "id": "aa1a7ef8-6006-4a28-8022-7a5be348c605",
   "metadata": {},
   "outputs": [
    {
     "data": {
      "text/plain": [
       "0.6543927414476026"
      ]
     },
     "execution_count": 46,
     "metadata": {},
     "output_type": "execute_result"
    }
   ],
   "source": [
    "repeated_prob = train_df[train_df.attempt_type == \"repeated attempt\"].assessmentItemID.unique()\n",
    "\n",
    "# 재시도한 문제들의 정답률\n",
    "train_df.groupby(\"assessmentItemID\").agg({\"answer\": \"mean\"}).loc[repeated_prob].mean().values[0]"
   ]
  },
  {
   "cell_type": "code",
   "execution_count": 47,
   "id": "7d75ae0f-c555-4cb5-80e1-db2b2415a7b1",
   "metadata": {},
   "outputs": [
    {
     "data": {
      "text/html": [
       "<div>\n",
       "<style scoped>\n",
       "    .dataframe tbody tr th:only-of-type {\n",
       "        vertical-align: middle;\n",
       "    }\n",
       "\n",
       "    .dataframe tbody tr th {\n",
       "        vertical-align: top;\n",
       "    }\n",
       "\n",
       "    .dataframe thead th {\n",
       "        text-align: right;\n",
       "    }\n",
       "</style>\n",
       "<table border=\"1\" class=\"dataframe\">\n",
       "  <thead>\n",
       "    <tr style=\"text-align: right;\">\n",
       "      <th></th>\n",
       "      <th>user</th>\n",
       "      <th>assessmentItemID</th>\n",
       "      <th>testId</th>\n",
       "      <th>answer</th>\n",
       "      <th>Timestamp</th>\n",
       "      <th>tag</th>\n",
       "      <th>label</th>\n",
       "      <th>category</th>\n",
       "      <th>test</th>\n",
       "      <th>item</th>\n",
       "      <th>month</th>\n",
       "      <th>day</th>\n",
       "      <th>weekday</th>\n",
       "      <th>hour</th>\n",
       "      <th>elapsed</th>\n",
       "      <th>test_elapsed</th>\n",
       "      <th>chapter</th>\n",
       "      <th>attempt_type</th>\n",
       "    </tr>\n",
       "  </thead>\n",
       "  <tbody>\n",
       "    <tr>\n",
       "      <th>418072</th>\n",
       "      <td>517</td>\n",
       "      <td>A080127002</td>\n",
       "      <td>A080000127</td>\n",
       "      <td>0</td>\n",
       "      <td>2020-11-12 04:48:45</td>\n",
       "      <td>2719</td>\n",
       "      <td>train</td>\n",
       "      <td>8</td>\n",
       "      <td>127</td>\n",
       "      <td>2</td>\n",
       "      <td>11</td>\n",
       "      <td>12</td>\n",
       "      <td>3</td>\n",
       "      <td>4</td>\n",
       "      <td>2.0</td>\n",
       "      <td>2.0</td>\n",
       "      <td>419</td>\n",
       "      <td>first attempt</td>\n",
       "    </tr>\n",
       "    <tr>\n",
       "      <th>418200</th>\n",
       "      <td>517</td>\n",
       "      <td>A080127002</td>\n",
       "      <td>A080000127</td>\n",
       "      <td>0</td>\n",
       "      <td>2020-12-07 23:49:04</td>\n",
       "      <td>2719</td>\n",
       "      <td>train</td>\n",
       "      <td>8</td>\n",
       "      <td>127</td>\n",
       "      <td>2</td>\n",
       "      <td>12</td>\n",
       "      <td>7</td>\n",
       "      <td>0</td>\n",
       "      <td>23</td>\n",
       "      <td>3.0</td>\n",
       "      <td>3.0</td>\n",
       "      <td>419</td>\n",
       "      <td>repeated attempt</td>\n",
       "    </tr>\n",
       "    <tr>\n",
       "      <th>418257</th>\n",
       "      <td>517</td>\n",
       "      <td>A080127002</td>\n",
       "      <td>A080000127</td>\n",
       "      <td>1</td>\n",
       "      <td>2020-12-16 04:49:48</td>\n",
       "      <td>2719</td>\n",
       "      <td>train</td>\n",
       "      <td>8</td>\n",
       "      <td>127</td>\n",
       "      <td>2</td>\n",
       "      <td>12</td>\n",
       "      <td>16</td>\n",
       "      <td>2</td>\n",
       "      <td>4</td>\n",
       "      <td>4.0</td>\n",
       "      <td>4.0</td>\n",
       "      <td>419</td>\n",
       "      <td>repeated attempt</td>\n",
       "    </tr>\n",
       "  </tbody>\n",
       "</table>\n",
       "</div>"
      ],
      "text/plain": [
       "        user assessmentItemID      testId  answer           Timestamp   tag  \\\n",
       "418072   517       A080127002  A080000127       0 2020-11-12 04:48:45  2719   \n",
       "418200   517       A080127002  A080000127       0 2020-12-07 23:49:04  2719   \n",
       "418257   517       A080127002  A080000127       1 2020-12-16 04:49:48  2719   \n",
       "\n",
       "        label  category  test  item  month  day  weekday  hour  elapsed  \\\n",
       "418072  train         8   127     2     11   12        3     4      2.0   \n",
       "418200  train         8   127     2     12    7        0    23      3.0   \n",
       "418257  train         8   127     2     12   16        2     4      4.0   \n",
       "\n",
       "        test_elapsed  chapter      attempt_type  \n",
       "418072           2.0      419     first attempt  \n",
       "418200           3.0      419  repeated attempt  \n",
       "418257           4.0      419  repeated attempt  "
      ]
     },
     "execution_count": 47,
     "metadata": {},
     "output_type": "execute_result"
    }
   ],
   "source": [
    "# np.unique(user_prob_group.answer, return_counts=True)\n",
    "train_df[(train_df.user == 517) & (train_df.assessmentItemID == \"A080127002\")]"
   ]
  },
  {
   "cell_type": "markdown",
   "id": "388ac9b7-cedf-46b1-bcb1-f7011f948475",
   "metadata": {
    "tags": []
   },
   "source": [
    "## 최종적으로 맞춰야 하는 문제는 각 시험의 마지막 문제인가?\n",
    "대체로 그렇다 (93%) <br>\n",
    "그렇다면 train과 valid를 어떤 식으로 구성해야하는가? <br>\n",
    "각 시험의 마지막 문제들을 푼 데이터를 다 valid로 => 학습 때는 마지막 문항들을 아예 보지도 못하고 valid에서 맞출 수 있을까? <br>\n",
    "아니면 학습 데이터에 마지막 문제들을 푼 데이터를 여러번 넣는 것은? 혹은 마지막 문제가 아닌 애들 수 줄여서 비율을 1대 1로 가져가는 건? <br>"
   ]
  },
  {
   "cell_type": "code",
   "execution_count": 48,
   "id": "16ca4d06-730c-43e8-b732-53e62177fa33",
   "metadata": {},
   "outputs": [
    {
     "data": {
      "text/plain": [
       "(array([0.09090909, 0.25      , 0.33333333, 0.375     , 0.5       ,\n",
       "        0.625     , 0.66666667, 0.71428571, 0.75      , 0.8       ,\n",
       "        0.83333333, 0.85714286, 0.875     , 1.        ]),\n",
       " array([  1,   1,   1,   2,   6,   4,   1,   1,   2,   2,   4,   2,  11,\n",
       "        706]))"
      ]
     },
     "execution_count": 48,
     "metadata": {},
     "output_type": "execute_result"
    }
   ],
   "source": [
    "np.unique(tmp_df[tmp_df.answer == -1].last_prob, return_counts=True)"
   ]
  },
  {
   "cell_type": "code",
   "execution_count": 49,
   "id": "9244d8d1-28a5-4e1d-a1ec-00b29f20ff3f",
   "metadata": {},
   "outputs": [
    {
     "data": {
      "text/plain": [
       "<matplotlib.axes._subplots.AxesSubplot at 0x7fd39a7e96d0>"
      ]
     },
     "execution_count": 49,
     "metadata": {},
     "output_type": "execute_result"
    },
    {
     "data": {
      "image/png": "[encoded data removed]",
      "text/plain": [
       "<Figure size 432x288 with 1 Axes>"
      ]
     },
     "metadata": {},
     "output_type": "display_data"
    }
   ],
   "source": [
    "tmp_df[tmp_df.answer == -1].last_prob.plot.hist()"
   ]
  },
  {
   "cell_type": "markdown",
   "id": "f39b5471-12ca-4595-914e-3192a8caa00c",
   "metadata": {
    "tags": []
   },
   "source": [
    "## submission data에 대한 EDA"
   ]
  },
  {
   "cell_type": "code",
   "execution_count": 50,
   "id": "c857c717-20e8-4625-b8ee-1f4ee183eb71",
   "metadata": {},
   "outputs": [
    {
     "data": {
      "text/html": [
       "<div>\n",
       "<style scoped>\n",
       "    .dataframe tbody tr th:only-of-type {\n",
       "        vertical-align: middle;\n",
       "    }\n",
       "\n",
       "    .dataframe tbody tr th {\n",
       "        vertical-align: top;\n",
       "    }\n",
       "\n",
       "    .dataframe thead th {\n",
       "        text-align: right;\n",
       "    }\n",
       "</style>\n",
       "<table border=\"1\" class=\"dataframe\">\n",
       "  <thead>\n",
       "    <tr style=\"text-align: right;\">\n",
       "      <th></th>\n",
       "      <th>user</th>\n",
       "      <th>assessmentItemID</th>\n",
       "      <th>testId</th>\n",
       "      <th>answer</th>\n",
       "      <th>Timestamp</th>\n",
       "      <th>tag</th>\n",
       "      <th>label</th>\n",
       "      <th>category</th>\n",
       "      <th>test</th>\n",
       "      <th>item</th>\n",
       "      <th>month</th>\n",
       "      <th>day</th>\n",
       "      <th>weekday</th>\n",
       "      <th>hour</th>\n",
       "      <th>elapsed</th>\n",
       "      <th>test_elapsed</th>\n",
       "      <th>chapter</th>\n",
       "      <th>attempt_type</th>\n",
       "    </tr>\n",
       "  </thead>\n",
       "  <tbody>\n",
       "    <tr>\n",
       "      <th>1954</th>\n",
       "      <td>3</td>\n",
       "      <td>A050023001</td>\n",
       "      <td>A050000023</td>\n",
       "      <td>1</td>\n",
       "      <td>2020-01-09 10:56:31</td>\n",
       "      <td>2626</td>\n",
       "      <td>test</td>\n",
       "      <td>5</td>\n",
       "      <td>23</td>\n",
       "      <td>1</td>\n",
       "      <td>1</td>\n",
       "      <td>9</td>\n",
       "      <td>3</td>\n",
       "      <td>10</td>\n",
       "      <td>26.0</td>\n",
       "      <td>26.0</td>\n",
       "      <td>254</td>\n",
       "      <td>first attempt</td>\n",
       "    </tr>\n",
       "    <tr>\n",
       "      <th>1955</th>\n",
       "      <td>3</td>\n",
       "      <td>A050023002</td>\n",
       "      <td>A050000023</td>\n",
       "      <td>1</td>\n",
       "      <td>2020-01-09 10:56:57</td>\n",
       "      <td>2626</td>\n",
       "      <td>test</td>\n",
       "      <td>5</td>\n",
       "      <td>23</td>\n",
       "      <td>2</td>\n",
       "      <td>1</td>\n",
       "      <td>9</td>\n",
       "      <td>3</td>\n",
       "      <td>10</td>\n",
       "      <td>94.0</td>\n",
       "      <td>94.0</td>\n",
       "      <td>254</td>\n",
       "      <td>first attempt</td>\n",
       "    </tr>\n",
       "    <tr>\n",
       "      <th>1956</th>\n",
       "      <td>3</td>\n",
       "      <td>A050023003</td>\n",
       "      <td>A050000023</td>\n",
       "      <td>0</td>\n",
       "      <td>2020-01-09 10:58:31</td>\n",
       "      <td>2625</td>\n",
       "      <td>test</td>\n",
       "      <td>5</td>\n",
       "      <td>23</td>\n",
       "      <td>3</td>\n",
       "      <td>1</td>\n",
       "      <td>9</td>\n",
       "      <td>3</td>\n",
       "      <td>10</td>\n",
       "      <td>5.0</td>\n",
       "      <td>5.0</td>\n",
       "      <td>254</td>\n",
       "      <td>first attempt</td>\n",
       "    </tr>\n",
       "    <tr>\n",
       "      <th>1957</th>\n",
       "      <td>3</td>\n",
       "      <td>A050023004</td>\n",
       "      <td>A050000023</td>\n",
       "      <td>0</td>\n",
       "      <td>2020-01-09 10:58:36</td>\n",
       "      <td>2625</td>\n",
       "      <td>test</td>\n",
       "      <td>5</td>\n",
       "      <td>23</td>\n",
       "      <td>4</td>\n",
       "      <td>1</td>\n",
       "      <td>9</td>\n",
       "      <td>3</td>\n",
       "      <td>10</td>\n",
       "      <td>7.0</td>\n",
       "      <td>7.0</td>\n",
       "      <td>254</td>\n",
       "      <td>first attempt</td>\n",
       "    </tr>\n",
       "    <tr>\n",
       "      <th>1958</th>\n",
       "      <td>3</td>\n",
       "      <td>A050023006</td>\n",
       "      <td>A050000023</td>\n",
       "      <td>0</td>\n",
       "      <td>2020-01-09 10:58:43</td>\n",
       "      <td>2623</td>\n",
       "      <td>test</td>\n",
       "      <td>5</td>\n",
       "      <td>23</td>\n",
       "      <td>6</td>\n",
       "      <td>1</td>\n",
       "      <td>9</td>\n",
       "      <td>3</td>\n",
       "      <td>10</td>\n",
       "      <td>3.0</td>\n",
       "      <td>3.0</td>\n",
       "      <td>254</td>\n",
       "      <td>first attempt</td>\n",
       "    </tr>\n",
       "    <tr>\n",
       "      <th>...</th>\n",
       "      <td>...</td>\n",
       "      <td>...</td>\n",
       "      <td>...</td>\n",
       "      <td>...</td>\n",
       "      <td>...</td>\n",
       "      <td>...</td>\n",
       "      <td>...</td>\n",
       "      <td>...</td>\n",
       "      <td>...</td>\n",
       "      <td>...</td>\n",
       "      <td>...</td>\n",
       "      <td>...</td>\n",
       "      <td>...</td>\n",
       "      <td>...</td>\n",
       "      <td>...</td>\n",
       "      <td>...</td>\n",
       "      <td>...</td>\n",
       "      <td>...</td>\n",
       "    </tr>\n",
       "    <tr>\n",
       "      <th>2526670</th>\n",
       "      <td>7439</td>\n",
       "      <td>A040197006</td>\n",
       "      <td>A040000197</td>\n",
       "      <td>1</td>\n",
       "      <td>2020-08-21 07:39:45</td>\n",
       "      <td>2132</td>\n",
       "      <td>test</td>\n",
       "      <td>4</td>\n",
       "      <td>197</td>\n",
       "      <td>6</td>\n",
       "      <td>8</td>\n",
       "      <td>21</td>\n",
       "      <td>4</td>\n",
       "      <td>7</td>\n",
       "      <td>55658.0</td>\n",
       "      <td>NaN</td>\n",
       "      <td>245</td>\n",
       "      <td>first attempt</td>\n",
       "    </tr>\n",
       "    <tr>\n",
       "      <th>2526671</th>\n",
       "      <td>7439</td>\n",
       "      <td>A040130001</td>\n",
       "      <td>A040000130</td>\n",
       "      <td>0</td>\n",
       "      <td>2020-10-14 23:07:23</td>\n",
       "      <td>8832</td>\n",
       "      <td>test</td>\n",
       "      <td>4</td>\n",
       "      <td>130</td>\n",
       "      <td>1</td>\n",
       "      <td>10</td>\n",
       "      <td>14</td>\n",
       "      <td>2</td>\n",
       "      <td>23</td>\n",
       "      <td>18.0</td>\n",
       "      <td>18.0</td>\n",
       "      <td>226</td>\n",
       "      <td>first attempt</td>\n",
       "    </tr>\n",
       "    <tr>\n",
       "      <th>2526672</th>\n",
       "      <td>7439</td>\n",
       "      <td>A040130002</td>\n",
       "      <td>A040000130</td>\n",
       "      <td>1</td>\n",
       "      <td>2020-10-14 23:07:41</td>\n",
       "      <td>8832</td>\n",
       "      <td>test</td>\n",
       "      <td>4</td>\n",
       "      <td>130</td>\n",
       "      <td>2</td>\n",
       "      <td>10</td>\n",
       "      <td>14</td>\n",
       "      <td>2</td>\n",
       "      <td>23</td>\n",
       "      <td>21.0</td>\n",
       "      <td>21.0</td>\n",
       "      <td>226</td>\n",
       "      <td>first attempt</td>\n",
       "    </tr>\n",
       "    <tr>\n",
       "      <th>2526673</th>\n",
       "      <td>7439</td>\n",
       "      <td>A040130003</td>\n",
       "      <td>A040000130</td>\n",
       "      <td>1</td>\n",
       "      <td>2020-10-14 23:08:02</td>\n",
       "      <td>8244</td>\n",
       "      <td>test</td>\n",
       "      <td>4</td>\n",
       "      <td>130</td>\n",
       "      <td>3</td>\n",
       "      <td>10</td>\n",
       "      <td>14</td>\n",
       "      <td>2</td>\n",
       "      <td>23</td>\n",
       "      <td>89.0</td>\n",
       "      <td>89.0</td>\n",
       "      <td>226</td>\n",
       "      <td>first attempt</td>\n",
       "    </tr>\n",
       "    <tr>\n",
       "      <th>2526674</th>\n",
       "      <td>7439</td>\n",
       "      <td>A040130004</td>\n",
       "      <td>A040000130</td>\n",
       "      <td>1</td>\n",
       "      <td>2020-10-14 23:09:31</td>\n",
       "      <td>8244</td>\n",
       "      <td>test</td>\n",
       "      <td>4</td>\n",
       "      <td>130</td>\n",
       "      <td>4</td>\n",
       "      <td>10</td>\n",
       "      <td>14</td>\n",
       "      <td>2</td>\n",
       "      <td>23</td>\n",
       "      <td>32.0</td>\n",
       "      <td>32.0</td>\n",
       "      <td>226</td>\n",
       "      <td>first attempt</td>\n",
       "    </tr>\n",
       "  </tbody>\n",
       "</table>\n",
       "<p>259370 rows × 18 columns</p>\n",
       "</div>"
      ],
      "text/plain": [
       "         user assessmentItemID      testId  answer           Timestamp   tag  \\\n",
       "1954        3       A050023001  A050000023       1 2020-01-09 10:56:31  2626   \n",
       "1955        3       A050023002  A050000023       1 2020-01-09 10:56:57  2626   \n",
       "1956        3       A050023003  A050000023       0 2020-01-09 10:58:31  2625   \n",
       "1957        3       A050023004  A050000023       0 2020-01-09 10:58:36  2625   \n",
       "1958        3       A050023006  A050000023       0 2020-01-09 10:58:43  2623   \n",
       "...       ...              ...         ...     ...                 ...   ...   \n",
       "2526670  7439       A040197006  A040000197       1 2020-08-21 07:39:45  2132   \n",
       "2526671  7439       A040130001  A040000130       0 2020-10-14 23:07:23  8832   \n",
       "2526672  7439       A040130002  A040000130       1 2020-10-14 23:07:41  8832   \n",
       "2526673  7439       A040130003  A040000130       1 2020-10-14 23:08:02  8244   \n",
       "2526674  7439       A040130004  A040000130       1 2020-10-14 23:09:31  8244   \n",
       "\n",
       "        label  category  test  item  month  day  weekday  hour  elapsed  \\\n",
       "1954     test         5    23     1      1    9        3    10     26.0   \n",
       "1955     test         5    23     2      1    9        3    10     94.0   \n",
       "1956     test         5    23     3      1    9        3    10      5.0   \n",
       "1957     test         5    23     4      1    9        3    10      7.0   \n",
       "1958     test         5    23     6      1    9        3    10      3.0   \n",
       "...       ...       ...   ...   ...    ...  ...      ...   ...      ...   \n",
       "2526670  test         4   197     6      8   21        4     7  55658.0   \n",
       "2526671  test         4   130     1     10   14        2    23     18.0   \n",
       "2526672  test         4   130     2     10   14        2    23     21.0   \n",
       "2526673  test         4   130     3     10   14        2    23     89.0   \n",
       "2526674  test         4   130     4     10   14        2    23     32.0   \n",
       "\n",
       "         test_elapsed  chapter   attempt_type  \n",
       "1954             26.0      254  first attempt  \n",
       "1955             94.0      254  first attempt  \n",
       "1956              5.0      254  first attempt  \n",
       "1957              7.0      254  first attempt  \n",
       "1958              3.0      254  first attempt  \n",
       "...               ...      ...            ...  \n",
       "2526670           NaN      245  first attempt  \n",
       "2526671          18.0      226  first attempt  \n",
       "2526672          21.0      226  first attempt  \n",
       "2526673          89.0      226  first attempt  \n",
       "2526674          32.0      226  first attempt  \n",
       "\n",
       "[259370 rows x 18 columns]"
      ]
     },
     "execution_count": 50,
     "metadata": {},
     "output_type": "execute_result"
    }
   ],
   "source": [
    "test_data = train_df[train_df.label == \"test\"]\n",
    "test_data"
   ]
  },
  {
   "cell_type": "code",
   "execution_count": 51,
   "id": "0a6ab651-f390-43e3-9b0c-95a5c8e99708",
   "metadata": {},
   "outputs": [
    {
     "data": {
      "text/html": [
       "<div>\n",
       "<style scoped>\n",
       "    .dataframe tbody tr th:only-of-type {\n",
       "        vertical-align: middle;\n",
       "    }\n",
       "\n",
       "    .dataframe tbody tr th {\n",
       "        vertical-align: top;\n",
       "    }\n",
       "\n",
       "    .dataframe thead th {\n",
       "        text-align: right;\n",
       "    }\n",
       "</style>\n",
       "<table border=\"1\" class=\"dataframe\">\n",
       "  <thead>\n",
       "    <tr style=\"text-align: right;\">\n",
       "      <th></th>\n",
       "      <th>assessmentItemID</th>\n",
       "      <th>testId</th>\n",
       "      <th>answer</th>\n",
       "      <th>tag</th>\n",
       "      <th>chapter</th>\n",
       "    </tr>\n",
       "    <tr>\n",
       "      <th>user</th>\n",
       "      <th></th>\n",
       "      <th></th>\n",
       "      <th></th>\n",
       "      <th></th>\n",
       "      <th></th>\n",
       "    </tr>\n",
       "  </thead>\n",
       "  <tbody>\n",
       "    <tr>\n",
       "      <th>584</th>\n",
       "      <td>1619</td>\n",
       "      <td>242</td>\n",
       "      <td>0.575664</td>\n",
       "      <td>350</td>\n",
       "      <td>119</td>\n",
       "    </tr>\n",
       "    <tr>\n",
       "      <th>1348</th>\n",
       "      <td>1378</td>\n",
       "      <td>205</td>\n",
       "      <td>0.486938</td>\n",
       "      <td>304</td>\n",
       "      <td>100</td>\n",
       "    </tr>\n",
       "    <tr>\n",
       "      <th>260</th>\n",
       "      <td>1334</td>\n",
       "      <td>212</td>\n",
       "      <td>0.688156</td>\n",
       "      <td>220</td>\n",
       "      <td>84</td>\n",
       "    </tr>\n",
       "    <tr>\n",
       "      <th>617</th>\n",
       "      <td>1332</td>\n",
       "      <td>223</td>\n",
       "      <td>0.828829</td>\n",
       "      <td>279</td>\n",
       "      <td>132</td>\n",
       "    </tr>\n",
       "    <tr>\n",
       "      <th>13</th>\n",
       "      <td>1316</td>\n",
       "      <td>206</td>\n",
       "      <td>0.695289</td>\n",
       "      <td>218</td>\n",
       "      <td>94</td>\n",
       "    </tr>\n",
       "    <tr>\n",
       "      <th>...</th>\n",
       "      <td>...</td>\n",
       "      <td>...</td>\n",
       "      <td>...</td>\n",
       "      <td>...</td>\n",
       "      <td>...</td>\n",
       "    </tr>\n",
       "    <tr>\n",
       "      <th>7033</th>\n",
       "      <td>14</td>\n",
       "      <td>3</td>\n",
       "      <td>0.214286</td>\n",
       "      <td>3</td>\n",
       "      <td>3</td>\n",
       "    </tr>\n",
       "    <tr>\n",
       "      <th>7404</th>\n",
       "      <td>14</td>\n",
       "      <td>3</td>\n",
       "      <td>0.500000</td>\n",
       "      <td>4</td>\n",
       "      <td>3</td>\n",
       "    </tr>\n",
       "    <tr>\n",
       "      <th>7416</th>\n",
       "      <td>14</td>\n",
       "      <td>3</td>\n",
       "      <td>0.500000</td>\n",
       "      <td>7</td>\n",
       "      <td>3</td>\n",
       "    </tr>\n",
       "    <tr>\n",
       "      <th>7417</th>\n",
       "      <td>14</td>\n",
       "      <td>3</td>\n",
       "      <td>0.142857</td>\n",
       "      <td>3</td>\n",
       "      <td>3</td>\n",
       "    </tr>\n",
       "    <tr>\n",
       "      <th>5965</th>\n",
       "      <td>14</td>\n",
       "      <td>3</td>\n",
       "      <td>0.714286</td>\n",
       "      <td>3</td>\n",
       "      <td>3</td>\n",
       "    </tr>\n",
       "  </tbody>\n",
       "</table>\n",
       "<p>744 rows × 5 columns</p>\n",
       "</div>"
      ],
      "text/plain": [
       "      assessmentItemID  testId    answer  tag  chapter\n",
       "user                                                  \n",
       "584               1619     242  0.575664  350      119\n",
       "1348              1378     205  0.486938  304      100\n",
       "260               1334     212  0.688156  220       84\n",
       "617               1332     223  0.828829  279      132\n",
       "13                1316     206  0.695289  218       94\n",
       "...                ...     ...       ...  ...      ...\n",
       "7033                14       3  0.214286    3        3\n",
       "7404                14       3  0.500000    4        3\n",
       "7416                14       3  0.500000    7        3\n",
       "7417                14       3  0.142857    3        3\n",
       "5965                14       3  0.714286    3        3\n",
       "\n",
       "[744 rows x 5 columns]"
      ]
     },
     "execution_count": 51,
     "metadata": {},
     "output_type": "execute_result"
    }
   ],
   "source": [
    "(test_data.groupby([\"user\"])\n",
    " .agg({\"assessmentItemID\": \"nunique\",\n",
    "       \"testId\": \"nunique\",\n",
    "       \"answer\": \"mean\",\n",
    "       \n",
    "       \"tag\": \"nunique\",\n",
    "       \"chapter\": \"nunique\"})\n",
    " .sort_values(\"assessmentItemID\", ascending=False)\n",
    ")"
   ]
  },
  {
   "cell_type": "code",
   "execution_count": 52,
   "id": "d3571388-5421-4232-9235-82d38e205a8c",
   "metadata": {},
   "outputs": [
    {
     "data": {
      "text/html": [
       "<div>\n",
       "<style scoped>\n",
       "    .dataframe tbody tr th:only-of-type {\n",
       "        vertical-align: middle;\n",
       "    }\n",
       "\n",
       "    .dataframe tbody tr th {\n",
       "        vertical-align: top;\n",
       "    }\n",
       "\n",
       "    .dataframe thead th {\n",
       "        text-align: right;\n",
       "    }\n",
       "</style>\n",
       "<table border=\"1\" class=\"dataframe\">\n",
       "  <thead>\n",
       "    <tr style=\"text-align: right;\">\n",
       "      <th></th>\n",
       "      <th>assessmentItemID</th>\n",
       "      <th>testId</th>\n",
       "      <th>answer</th>\n",
       "      <th>tag</th>\n",
       "      <th>chapter</th>\n",
       "    </tr>\n",
       "    <tr>\n",
       "      <th>user</th>\n",
       "      <th></th>\n",
       "      <th></th>\n",
       "      <th></th>\n",
       "      <th></th>\n",
       "      <th></th>\n",
       "    </tr>\n",
       "  </thead>\n",
       "  <tbody>\n",
       "    <tr>\n",
       "      <th>730</th>\n",
       "      <td>1860</td>\n",
       "      <td>259</td>\n",
       "      <td>0.598387</td>\n",
       "      <td>270</td>\n",
       "      <td>90</td>\n",
       "    </tr>\n",
       "    <tr>\n",
       "      <th>481</th>\n",
       "      <td>1847</td>\n",
       "      <td>279</td>\n",
       "      <td>0.124526</td>\n",
       "      <td>235</td>\n",
       "      <td>108</td>\n",
       "    </tr>\n",
       "    <tr>\n",
       "      <th>1112</th>\n",
       "      <td>1777</td>\n",
       "      <td>281</td>\n",
       "      <td>0.656162</td>\n",
       "      <td>220</td>\n",
       "      <td>120</td>\n",
       "    </tr>\n",
       "    <tr>\n",
       "      <th>926</th>\n",
       "      <td>1773</td>\n",
       "      <td>301</td>\n",
       "      <td>0.875353</td>\n",
       "      <td>210</td>\n",
       "      <td>154</td>\n",
       "    </tr>\n",
       "    <tr>\n",
       "      <th>1600</th>\n",
       "      <td>1737</td>\n",
       "      <td>286</td>\n",
       "      <td>0.854347</td>\n",
       "      <td>167</td>\n",
       "      <td>114</td>\n",
       "    </tr>\n",
       "    <tr>\n",
       "      <th>...</th>\n",
       "      <td>...</td>\n",
       "      <td>...</td>\n",
       "      <td>...</td>\n",
       "      <td>...</td>\n",
       "      <td>...</td>\n",
       "    </tr>\n",
       "    <tr>\n",
       "      <th>7396</th>\n",
       "      <td>14</td>\n",
       "      <td>3</td>\n",
       "      <td>0.928571</td>\n",
       "      <td>9</td>\n",
       "      <td>3</td>\n",
       "    </tr>\n",
       "    <tr>\n",
       "      <th>7414</th>\n",
       "      <td>13</td>\n",
       "      <td>3</td>\n",
       "      <td>0.615385</td>\n",
       "      <td>4</td>\n",
       "      <td>3</td>\n",
       "    </tr>\n",
       "    <tr>\n",
       "      <th>7390</th>\n",
       "      <td>13</td>\n",
       "      <td>3</td>\n",
       "      <td>0.615385</td>\n",
       "      <td>3</td>\n",
       "      <td>3</td>\n",
       "    </tr>\n",
       "    <tr>\n",
       "      <th>7252</th>\n",
       "      <td>13</td>\n",
       "      <td>3</td>\n",
       "      <td>0.769231</td>\n",
       "      <td>3</td>\n",
       "      <td>3</td>\n",
       "    </tr>\n",
       "    <tr>\n",
       "      <th>7441</th>\n",
       "      <td>9</td>\n",
       "      <td>2</td>\n",
       "      <td>0.555556</td>\n",
       "      <td>2</td>\n",
       "      <td>2</td>\n",
       "    </tr>\n",
       "  </tbody>\n",
       "</table>\n",
       "<p>6698 rows × 5 columns</p>\n",
       "</div>"
      ],
      "text/plain": [
       "      assessmentItemID  testId    answer  tag  chapter\n",
       "user                                                  \n",
       "730               1860     259  0.598387  270       90\n",
       "481               1847     279  0.124526  235      108\n",
       "1112              1777     281  0.656162  220      120\n",
       "926               1773     301  0.875353  210      154\n",
       "1600              1737     286  0.854347  167      114\n",
       "...                ...     ...       ...  ...      ...\n",
       "7396                14       3  0.928571    9        3\n",
       "7414                13       3  0.615385    4        3\n",
       "7390                13       3  0.615385    3        3\n",
       "7252                13       3  0.769231    3        3\n",
       "7441                 9       2  0.555556    2        2\n",
       "\n",
       "[6698 rows x 5 columns]"
      ]
     },
     "execution_count": 52,
     "metadata": {},
     "output_type": "execute_result"
    }
   ],
   "source": [
    "train_data = train_df[train_df.label == \"train\"]\n",
    "(train_data.groupby([\"user\"])\n",
    " .agg({\"assessmentItemID\": \"nunique\",\n",
    "       \"testId\": \"nunique\",\n",
    "       \"answer\": \"mean\",\n",
    "       \n",
    "       \"tag\": \"nunique\",\n",
    "       \"chapter\": \"nunique\"})\n",
    " .sort_values(\"assessmentItemID\", ascending=False)\n",
    ")\n",
    "# train_data_first = train_data[train_data.user != train_data.user.shift(1)]"
   ]
  },
  {
   "cell_type": "code",
   "execution_count": null,
   "id": "039cfc94-65a4-4025-b76b-c21639aedfc8",
   "metadata": {},
   "outputs": [],
   "source": []
  }
 ],
 "metadata": {
  "kernelspec": {
   "display_name": "Python 3 (ipykernel)",
   "language": "python",
   "name": "python3"
  },
  "language_info": {
   "codemirror_mode": {
    "name": "ipython",
    "version": 3
   },
   "file_extension": ".py",
   "mimetype": "text/x-python",
   "name": "python",
   "nbconvert_exporter": "python",
   "pygments_lexer": "ipython3",
   "version": "3.8.5"
  },
  "widgets": {
   "application/vnd.jupyter.widget-state+json": {
    "state": {},
    "version_major": 2,
    "version_minor": 0
   }
  }
 },
 "nbformat": 4,
 "nbformat_minor": 5
}
